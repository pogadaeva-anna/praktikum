{
 "cells": [
  {
   "cell_type": "markdown",
   "metadata": {},
   "source": [
    "# Анализ пользовательского поведения в мобильном приложении\n",
    "## Описание проекта\n",
    "Стартап продаёт продукты питания. Нужно разобраться, как ведут себя пользователи мобильного приложения.\n",
    "\n",
    "1. Изучить воронку продаж. \n",
    "\n",
    "    - как пользователи доходят до покупки;\n",
    "    - сколько пользователей доходит до покупки, а сколько — «застревает» на предыдущих шагах;\n",
    "    - на каких шагах застревают.\n",
    "\n",
    "\n",
    "2. Исследовать результаты A/A/B-эксперимента\n",
    "\n",
    "    **Условия**: дизайнеры хотят поменять шрифты во всём приложении, а менеджеры опасаются, что пользователям будет непривычно. Пользователей разбили на 3 группы: 2 контрольные со старыми шрифтами и одну экспериментальную — с новыми. \n",
    "    - Выяснить, какой шрифт лучше.\n",
    "\n",
    "<font color = grey><i>Создание двух групп A вместо одной имеет определённые преимущества. Если две контрольные группы окажутся равны, мы можем быть уверены в точности проведенного тестирования. Если же между значениями A и A будут существенные различия, это поможет обнаружить факторы, которые привели к искажению результатов. Сравнение контрольных групп также помогает понять, сколько времени и данных потребуется для дальнейших тестов.</i></font>\n",
    "\n",
    "## Итоги\n",
    "Были изучены принципы событийной аналитики. Построена воронка продаж, исследован путь пользователей до покупки. Проанализированы\n",
    "результаты A/B-теста введения новых шрифтов. Выявлено, что изменение шрифта в приложении не окажет значительного влияния на поведение пользователей. Предоставлены рекомендации.\n",
    "\n",
    "\n",
    "## Описание данных\n",
    "\n",
    "Каждая запись в логе — это действие пользователя, или событие.\n",
    "- `EventName` — название события;\n",
    "- `DeviceIDHash` — уникальный идентификатор пользователя;\n",
    "- `EventTimestamp` — время события;\n",
    "- `ExpId` — номер эксперимента: 246 и 247 — контрольные группы, а 248 — экспериментальная.\n",
    "\n",
    "## Содержание\n",
    "1. [Подготовка данных к исследованию](#header_1)\n",
    "2. [Анализ данных](#header_2)\n",
    "    - [Изучение воронки продаж](#header_2_1)\n",
    "    - [Исследование результатов A/A/B-эксперимента](#header_2_2)  \n",
    "    \n",
    "    \n",
    "3. [Выводы](#header_3)\n",
    "\n"
   ]
  },
  {
   "cell_type": "markdown",
   "metadata": {},
   "source": [
    "## Используемые библиотеки и функции"
   ]
  },
  {
   "cell_type": "code",
   "execution_count": 1,
   "metadata": {},
   "outputs": [],
   "source": [
    "import pandas as pd\n",
    "import numpy as np\n",
    "import math as mth\n",
    "import scipy.stats as st\n",
    "import matplotlib.pyplot as plt\n",
    "import seaborn as sns\n",
    "import plotly.express as px\n",
    "from plotly import graph_objects as go\n",
    "\n",
    "import plotly.io as pio\n",
    "png_renderer = pio.renderers[\"svg\"]\n",
    "png_renderer.width = 1000\n",
    "png_renderer.height = 500\n",
    "\n",
    "pio.renderers.default = \"svg\"\n",
    "\n",
    "import warnings\n",
    "warnings.filterwarnings('ignore')\n",
    "\n",
    "# задаем ширину столбцов датафрейма\n",
    "pd.options.display.max_colwidth = 150\n",
    "\n",
    "# лучше set_theme, но в этом окружении не работает\n",
    "sns.set(context = 'notebook', \n",
    "        font_scale = 1, \n",
    "        style=\"whitegrid\", \n",
    "        palette=\"Greens\",\n",
    "        rc={'axes.labelsize': 13, 'axes.titlesize': 15, \"figure.figsize\":(15, 5)} \n",
    "       )\n",
    "\n",
    "# функция для форматирования графиков\n",
    "def plot_format(title, xlabel, ylabel, tsize = 15):\n",
    "    '''\n",
    "    Назначает подписи графика и осей для текущего выбранного графика\n",
    "    :title: заголовок графика\n",
    "    :xlabel: подпись оси X\n",
    "    :ylabel: подпись оси Y\n",
    "    '''\n",
    "    plt.title(title, size = tsize)\n",
    "    plt.xlabel(xlabel)\n",
    "    plt.ylabel(ylabel)\n",
    "    plt.show()"
   ]
  },
  {
   "cell_type": "code",
   "execution_count": 4,
   "metadata": {},
   "outputs": [],
   "source": [
    "PATH = 'datasets/logs_exp.csv'"
   ]
  },
  {
   "cell_type": "markdown",
   "metadata": {},
   "source": [
    "# Подготовка данных к исследованию<a id='header_1'></a>"
   ]
  },
  {
   "cell_type": "code",
   "execution_count": 5,
   "metadata": {},
   "outputs": [
    {
     "data": {
      "text/html": [
       "<div>\n",
       "<style scoped>\n",
       "    .dataframe tbody tr th:only-of-type {\n",
       "        vertical-align: middle;\n",
       "    }\n",
       "\n",
       "    .dataframe tbody tr th {\n",
       "        vertical-align: top;\n",
       "    }\n",
       "\n",
       "    .dataframe thead th {\n",
       "        text-align: right;\n",
       "    }\n",
       "</style>\n",
       "<table border=\"1\" class=\"dataframe\">\n",
       "  <thead>\n",
       "    <tr style=\"text-align: right;\">\n",
       "      <th></th>\n",
       "      <th>EventName</th>\n",
       "      <th>DeviceIDHash</th>\n",
       "      <th>EventTimestamp</th>\n",
       "      <th>ExpId</th>\n",
       "    </tr>\n",
       "  </thead>\n",
       "  <tbody>\n",
       "    <tr>\n",
       "      <td>0</td>\n",
       "      <td>MainScreenAppear</td>\n",
       "      <td>4575588528974610257</td>\n",
       "      <td>1564029816</td>\n",
       "      <td>246</td>\n",
       "    </tr>\n",
       "    <tr>\n",
       "      <td>1</td>\n",
       "      <td>MainScreenAppear</td>\n",
       "      <td>7416695313311560658</td>\n",
       "      <td>1564053102</td>\n",
       "      <td>246</td>\n",
       "    </tr>\n",
       "    <tr>\n",
       "      <td>2</td>\n",
       "      <td>PaymentScreenSuccessful</td>\n",
       "      <td>3518123091307005509</td>\n",
       "      <td>1564054127</td>\n",
       "      <td>248</td>\n",
       "    </tr>\n",
       "    <tr>\n",
       "      <td>3</td>\n",
       "      <td>CartScreenAppear</td>\n",
       "      <td>3518123091307005509</td>\n",
       "      <td>1564054127</td>\n",
       "      <td>248</td>\n",
       "    </tr>\n",
       "    <tr>\n",
       "      <td>4</td>\n",
       "      <td>PaymentScreenSuccessful</td>\n",
       "      <td>6217807653094995999</td>\n",
       "      <td>1564055322</td>\n",
       "      <td>248</td>\n",
       "    </tr>\n",
       "  </tbody>\n",
       "</table>\n",
       "</div>"
      ],
      "text/plain": [
       "                 EventName         DeviceIDHash  EventTimestamp  ExpId\n",
       "0         MainScreenAppear  4575588528974610257      1564029816    246\n",
       "1         MainScreenAppear  7416695313311560658      1564053102    246\n",
       "2  PaymentScreenSuccessful  3518123091307005509      1564054127    248\n",
       "3         CartScreenAppear  3518123091307005509      1564054127    248\n",
       "4  PaymentScreenSuccessful  6217807653094995999      1564055322    248"
      ]
     },
     "execution_count": 5,
     "metadata": {},
     "output_type": "execute_result"
    }
   ],
   "source": [
    "logs = pd.read_csv(PATH, '\\t')\n",
    "logs.head()"
   ]
  },
  {
   "cell_type": "code",
   "execution_count": 6,
   "metadata": {},
   "outputs": [
    {
     "name": "stdout",
     "output_type": "stream",
     "text": [
      "<class 'pandas.core.frame.DataFrame'>\n",
      "RangeIndex: 244126 entries, 0 to 244125\n",
      "Data columns (total 4 columns):\n",
      "EventName         244126 non-null object\n",
      "DeviceIDHash      244126 non-null int64\n",
      "EventTimestamp    244126 non-null int64\n",
      "ExpId             244126 non-null int64\n",
      "dtypes: int64(3), object(1)\n",
      "memory usage: 7.5+ MB\n"
     ]
    }
   ],
   "source": [
    "logs.info()"
   ]
  },
  {
   "cell_type": "code",
   "execution_count": 7,
   "metadata": {},
   "outputs": [],
   "source": [
    "# приводим названия столбцов к удобному формату\n",
    "logs.columns = ['event', 'user_id', 'event_dttm', 'group_id']"
   ]
  },
  {
   "cell_type": "code",
   "execution_count": 8,
   "metadata": {},
   "outputs": [
    {
     "data": {
      "text/html": [
       "<div>\n",
       "<style scoped>\n",
       "    .dataframe tbody tr th:only-of-type {\n",
       "        vertical-align: middle;\n",
       "    }\n",
       "\n",
       "    .dataframe tbody tr th {\n",
       "        vertical-align: top;\n",
       "    }\n",
       "\n",
       "    .dataframe thead th {\n",
       "        text-align: right;\n",
       "    }\n",
       "</style>\n",
       "<table border=\"1\" class=\"dataframe\">\n",
       "  <thead>\n",
       "    <tr style=\"text-align: right;\">\n",
       "      <th></th>\n",
       "      <th>event</th>\n",
       "      <th>user_id</th>\n",
       "      <th>event_dttm</th>\n",
       "      <th>group_id</th>\n",
       "      <th>event_date</th>\n",
       "    </tr>\n",
       "  </thead>\n",
       "  <tbody>\n",
       "    <tr>\n",
       "      <td>0</td>\n",
       "      <td>MainScreenAppear</td>\n",
       "      <td>4575588528974610257</td>\n",
       "      <td>2019-07-25 04:43:36</td>\n",
       "      <td>246</td>\n",
       "      <td>2019-07-25</td>\n",
       "    </tr>\n",
       "    <tr>\n",
       "      <td>1</td>\n",
       "      <td>MainScreenAppear</td>\n",
       "      <td>7416695313311560658</td>\n",
       "      <td>2019-07-25 11:11:42</td>\n",
       "      <td>246</td>\n",
       "      <td>2019-07-25</td>\n",
       "    </tr>\n",
       "    <tr>\n",
       "      <td>2</td>\n",
       "      <td>PaymentScreenSuccessful</td>\n",
       "      <td>3518123091307005509</td>\n",
       "      <td>2019-07-25 11:28:47</td>\n",
       "      <td>248</td>\n",
       "      <td>2019-07-25</td>\n",
       "    </tr>\n",
       "    <tr>\n",
       "      <td>3</td>\n",
       "      <td>CartScreenAppear</td>\n",
       "      <td>3518123091307005509</td>\n",
       "      <td>2019-07-25 11:28:47</td>\n",
       "      <td>248</td>\n",
       "      <td>2019-07-25</td>\n",
       "    </tr>\n",
       "    <tr>\n",
       "      <td>4</td>\n",
       "      <td>PaymentScreenSuccessful</td>\n",
       "      <td>6217807653094995999</td>\n",
       "      <td>2019-07-25 11:48:42</td>\n",
       "      <td>248</td>\n",
       "      <td>2019-07-25</td>\n",
       "    </tr>\n",
       "  </tbody>\n",
       "</table>\n",
       "</div>"
      ],
      "text/plain": [
       "                     event              user_id          event_dttm  group_id  \\\n",
       "0         MainScreenAppear  4575588528974610257 2019-07-25 04:43:36       246   \n",
       "1         MainScreenAppear  7416695313311560658 2019-07-25 11:11:42       246   \n",
       "2  PaymentScreenSuccessful  3518123091307005509 2019-07-25 11:28:47       248   \n",
       "3         CartScreenAppear  3518123091307005509 2019-07-25 11:28:47       248   \n",
       "4  PaymentScreenSuccessful  6217807653094995999 2019-07-25 11:48:42       248   \n",
       "\n",
       "   event_date  \n",
       "0  2019-07-25  \n",
       "1  2019-07-25  \n",
       "2  2019-07-25  \n",
       "3  2019-07-25  \n",
       "4  2019-07-25  "
      ]
     },
     "execution_count": 8,
     "metadata": {},
     "output_type": "execute_result"
    }
   ],
   "source": [
    "# переводим время из unix-time в привычное глазу\n",
    "logs['event_dttm'] = pd.to_datetime(logs['event_dttm'], unit = 's')\n",
    "logs['event_date'] = logs['event_dttm'].dt.date \n",
    "logs.head()"
   ]
  },
  {
   "cell_type": "code",
   "execution_count": 9,
   "metadata": {},
   "outputs": [
    {
     "data": {
      "text/plain": [
       "array([246, 248, 247])"
      ]
     },
     "execution_count": 9,
     "metadata": {},
     "output_type": "execute_result"
    }
   ],
   "source": [
    "# проверяем поле group_id — нет ли лишних значений \n",
    "logs['group_id'].unique()"
   ]
  },
  {
   "cell_type": "code",
   "execution_count": 10,
   "metadata": {},
   "outputs": [
    {
     "name": "stdout",
     "output_type": "stream",
     "text": [
      "Количество полных дублей до: 413\n",
      "Количество полных дублей после: 0\n"
     ]
    }
   ],
   "source": [
    "print('Количество полных дублей до:', logs.duplicated().sum())\n",
    "logs = logs.drop_duplicates()\n",
    "print('Количество полных дублей после:', logs.duplicated().sum())"
   ]
  },
  {
   "cell_type": "markdown",
   "metadata": {},
   "source": [
    "Проверим, насколько качествено прозведено деление на экспериментальны группы."
   ]
  },
  {
   "cell_type": "code",
   "execution_count": 11,
   "metadata": {},
   "outputs": [
    {
     "name": "stdout",
     "output_type": "stream",
     "text": [
      "Разница между самой большой и самой маленькой группой 2.13%\n",
      "Разница между A-группами 1.25%\n"
     ]
    },
    {
     "data": {
      "text/html": [
       "<div>\n",
       "<style scoped>\n",
       "    .dataframe tbody tr th:only-of-type {\n",
       "        vertical-align: middle;\n",
       "    }\n",
       "\n",
       "    .dataframe tbody tr th {\n",
       "        vertical-align: top;\n",
       "    }\n",
       "\n",
       "    .dataframe thead th {\n",
       "        text-align: right;\n",
       "    }\n",
       "</style>\n",
       "<table border=\"1\" class=\"dataframe\">\n",
       "  <thead>\n",
       "    <tr style=\"text-align: right;\">\n",
       "      <th></th>\n",
       "      <th>group_id</th>\n",
       "      <th>user_id</th>\n",
       "      <th>part</th>\n",
       "    </tr>\n",
       "  </thead>\n",
       "  <tbody>\n",
       "    <tr>\n",
       "      <td>0</td>\n",
       "      <td>246</td>\n",
       "      <td>2489</td>\n",
       "      <td>0.329625</td>\n",
       "    </tr>\n",
       "    <tr>\n",
       "      <td>1</td>\n",
       "      <td>247</td>\n",
       "      <td>2520</td>\n",
       "      <td>0.333731</td>\n",
       "    </tr>\n",
       "    <tr>\n",
       "      <td>2</td>\n",
       "      <td>248</td>\n",
       "      <td>2542</td>\n",
       "      <td>0.336644</td>\n",
       "    </tr>\n",
       "  </tbody>\n",
       "</table>\n",
       "</div>"
      ],
      "text/plain": [
       "   group_id  user_id      part\n",
       "0       246     2489  0.329625\n",
       "1       247     2520  0.333731\n",
       "2       248     2542  0.336644"
      ]
     },
     "execution_count": 11,
     "metadata": {},
     "output_type": "execute_result"
    }
   ],
   "source": [
    "# количество пользователей в каждой группе и доля каждой из групп\n",
    "df = logs.groupby('group_id', as_index = False).agg({'user_id':'nunique'}) \n",
    "df['part'] = df['user_id']/df['user_id'].sum()\n",
    "print('Разница между самой большой и самой маленькой группой {:.2%}'.format(df['user_id'].max()/df['user_id'].min() - 1))\n",
    "print('Разница между A-группами {:.2%}'.format(df.iloc[1]['user_id']/df.iloc[0]['user_id'] - 1))\n",
    "df"
   ]
  },
  {
   "cell_type": "code",
   "execution_count": 12,
   "metadata": {},
   "outputs": [
    {
     "data": {
      "text/plain": [
       "array([2489])"
      ]
     },
     "execution_count": 12,
     "metadata": {},
     "output_type": "execute_result"
    }
   ],
   "source": [
    "df[df['group_id']==246]['user_id'].to_numpy()"
   ]
  },
  {
   "cell_type": "code",
   "execution_count": 13,
   "metadata": {},
   "outputs": [
    {
     "name": "stdout",
     "output_type": "stream",
     "text": [
      "Количество пользователей, попавших и в группу 246, и в группу 247: 0\n",
      "Количество пользователей, попавших и в группу 246, и в группу 248: 0\n",
      "Количество пользователей, попавших и в группу 247, и в группу 248: 0\n"
     ]
    }
   ],
   "source": [
    "group_246 = logs[logs['group_id'] == 246][['group_id','user_id']].drop_duplicates()\n",
    "group_247 = logs[logs['group_id'] == 247][['group_id','user_id']].drop_duplicates()\n",
    "group_248 = logs[logs['group_id'] == 248][['group_id','user_id']].drop_duplicates()\n",
    "\n",
    "\n",
    "print('Количество пользователей, попавших и в группу 246, и в группу 247:', \n",
    "      group_246.merge(group_247, on = 'user_id')['user_id'].count())\n",
    "print('Количество пользователей, попавших и в группу 246, и в группу 248:', \n",
    "      group_246.merge(group_248, on = 'user_id')['user_id'].count())\n",
    "print('Количество пользователей, попавших и в группу 247, и в группу 248:', \n",
    "      group_247.merge(group_248, on = 'user_id')['user_id'].count())"
   ]
  },
  {
   "cell_type": "code",
   "execution_count": 14,
   "metadata": {},
   "outputs": [
    {
     "name": "stdout",
     "output_type": "stream",
     "text": [
      "Количество событий в логе: 243713\n",
      "Количество пользователей: 7551\n",
      "Среднее количество событий на пользователя: 32\n",
      "Минимальная дата события: 2019-07-25\n",
      "Максимальня дата события: 2019-08-07\n"
     ]
    }
   ],
   "source": [
    "print('Количество событий в логе:',logs.shape[0])\n",
    "print('Количество пользователей:', logs['user_id'].unique().shape[0])\n",
    "print('Среднее количество событий на пользователя: {:.0f}'.format(logs.groupby('user_id')['event'].count().mean()))\n",
    "\n",
    "print('Минимальная дата события:', logs['event_date'].min())\n",
    "print('Максимальня дата события:', logs['event_date'].max())"
   ]
  },
  {
   "cell_type": "code",
   "execution_count": 15,
   "metadata": {},
   "outputs": [
    {
     "data": {
      "image/png": "[encoded data removed]",
      "text/plain": [
       "<Figure size 1080x360 with 1 Axes>"
      ]
     },
     "metadata": {},
     "output_type": "display_data"
    }
   ],
   "source": [
    "# распределение событий во времени\n",
    "logs.groupby('event_date')['event'].count().plot(kind = 'bar', rot=30)\n",
    "plot_format('Распределение событий во времени', 'Дата', 'Количество событий, шт.')"
   ]
  },
  {
   "cell_type": "markdown",
   "metadata": {},
   "source": [
    "Отбросим старые нерелевантные данные и проверим, что осталось в логе."
   ]
  },
  {
   "cell_type": "code",
   "execution_count": 17,
   "metadata": {},
   "outputs": [
    {
     "name": "stdout",
     "output_type": "stream",
     "text": [
      "Количество событий в скорректированном логе: 240887\n",
      "--> отбросили 2826 (1.16%) событий\n",
      "\n",
      "Количество пользователей в скорректированном логе: 7534\n",
      "--> отбросили 17 (0.23%) пользователей\n",
      "\n",
      "Среднее количество событий на пользователя: 32\n",
      "Минимальная дата события: 2019-08-01\n",
      "Максимальня дата события: 2019-08-07\n",
      "Разница между самой большой и самой маленькой группой 2.13%\n",
      "Разница между A-группами 1.17%\n"
     ]
    },
    {
     "data": {
      "text/html": [
       "<div>\n",
       "<style scoped>\n",
       "    .dataframe tbody tr th:only-of-type {\n",
       "        vertical-align: middle;\n",
       "    }\n",
       "\n",
       "    .dataframe tbody tr th {\n",
       "        vertical-align: top;\n",
       "    }\n",
       "\n",
       "    .dataframe thead th {\n",
       "        text-align: right;\n",
       "    }\n",
       "</style>\n",
       "<table border=\"1\" class=\"dataframe\">\n",
       "  <thead>\n",
       "    <tr style=\"text-align: right;\">\n",
       "      <th></th>\n",
       "      <th>group_id</th>\n",
       "      <th>user_id</th>\n",
       "      <th>part</th>\n",
       "    </tr>\n",
       "  </thead>\n",
       "  <tbody>\n",
       "    <tr>\n",
       "      <td>0</td>\n",
       "      <td>246</td>\n",
       "      <td>2484</td>\n",
       "      <td>0.329705</td>\n",
       "    </tr>\n",
       "    <tr>\n",
       "      <td>1</td>\n",
       "      <td>247</td>\n",
       "      <td>2513</td>\n",
       "      <td>0.333555</td>\n",
       "    </tr>\n",
       "    <tr>\n",
       "      <td>2</td>\n",
       "      <td>248</td>\n",
       "      <td>2537</td>\n",
       "      <td>0.336740</td>\n",
       "    </tr>\n",
       "  </tbody>\n",
       "</table>\n",
       "</div>"
      ],
      "text/plain": [
       "   group_id  user_id      part\n",
       "0       246     2484  0.329705\n",
       "1       247     2513  0.333555\n",
       "2       248     2537  0.336740"
      ]
     },
     "metadata": {},
     "output_type": "display_data"
    }
   ],
   "source": [
    "logs_correct = logs[logs['event_date'] > pd.to_datetime('2019-07-31', format = '%Y-%m-%d')]\n",
    "\n",
    "print('Количество событий в скорректированном логе:',logs_correct.shape[0])\n",
    "print('--> отбросили {:.0f} ({:.2%}) событий'\n",
    "      .format(logs.shape[0] - logs_correct.shape[0], (logs.shape[0] - logs_correct.shape[0])/logs.shape[0]))\n",
    "print()\n",
    "\n",
    "print('Количество пользователей в скорректированном логе:', logs_correct['user_id'].unique().shape[0])\n",
    "print('--> отбросили {:.0f} ({:.2%}) пользователей'\n",
    "      .format(logs['user_id'].unique().shape[0] - logs_correct['user_id'].unique().shape[0],\n",
    "             (logs['user_id'].unique().shape[0] - logs_correct['user_id'].unique().shape[0])/logs['user_id'].unique().shape[0]))\n",
    "print()\n",
    "\n",
    "print('Среднее количество событий на пользователя: {:.0f}'.format(logs_correct.groupby('user_id')['event'].count().mean()))\n",
    "\n",
    "print('Минимальная дата события:', logs_correct['event_date'].min())\n",
    "print('Максимальня дата события:', logs_correct['event_date'].max())\n",
    "\n",
    "#количество пользователей в каждой группе\n",
    "df = logs_correct.groupby('group_id', as_index = False).agg({'user_id':'nunique'}) \n",
    "df['part'] = df['user_id']/df['user_id'].sum()\n",
    "print('Разница между самой большой и самой маленькой группой {:.2%}'.format(df['user_id'].max()/df['user_id'].min() - 1))\n",
    "print('Разница между A-группами {:.2%}'.format(df.iloc[1]['user_id']/df.iloc[0]['user_id'] - 1))\n",
    "display(df)"
   ]
  },
  {
   "cell_type": "markdown",
   "metadata": {},
   "source": [
    "Пропуски отсутствуют, полные дубликаы удалены, пользователи поделены на примерно равные группы (разница в числе пользоавтелей не превышает 3%). Пользователи разделены корректно, не попали в две группы сразу.\n",
    "Реальный период, за который распологаем данными: c 01.08.2019 по 07.08.2019. После того, как отбросили данные, значительных изменений в распределении данных не произошло."
   ]
  },
  {
   "cell_type": "markdown",
   "metadata": {},
   "source": [
    "# Анализ данных <a id='header_2'></a>"
   ]
  },
  {
   "cell_type": "markdown",
   "metadata": {},
   "source": [
    "## Изучение воронки продаж<a id='header_2_1'></a>"
   ]
  },
  {
   "cell_type": "code",
   "execution_count": 18,
   "metadata": {},
   "outputs": [
    {
     "data": {
      "text/plain": [
       "array(['Tutorial', 'MainScreenAppear', 'OffersScreenAppear',\n",
       "       'CartScreenAppear', 'PaymentScreenSuccessful'], dtype=object)"
      ]
     },
     "execution_count": 18,
     "metadata": {},
     "output_type": "execute_result"
    }
   ],
   "source": [
    "# изучаем значения в поле event \n",
    "logs_correct['event'].unique()"
   ]
  },
  {
   "cell_type": "markdown",
   "metadata": {},
   "source": [
    "События расшифруем так:\n",
    "- MainScreenAppear — просмотр главного экрана\n",
    "- PaymentScreenSuccessful — успешный платеж\n",
    "- CartScreenAppear — просмотр корзины\n",
    "- OffersScreenAppear — просмотр экрана с предложением \n",
    "- Tutorial — обучение (велком-сценарий)"
   ]
  },
  {
   "cell_type": "code",
   "execution_count": 19,
   "metadata": {},
   "outputs": [
    {
     "data": {
      "image/png": "[encoded data removed]",
      "text/plain": [
       "<Figure size 1080x360 with 1 Axes>"
      ]
     },
     "metadata": {},
     "output_type": "display_data"
    }
   ],
   "source": [
    "#изучим, как часто возникают события\n",
    "event_frequency = (logs_correct\n",
    "                   .groupby('event', as_index = False)['event_date']\n",
    "                   .count()\n",
    "                   .sort_values(by = 'event_date', ascending = False)\n",
    "                  )\n",
    "\n",
    "ax = event_frequency.plot(kind = 'bar', x = 'event', y = 'event_date', rot = 0, legend = False)\n",
    "plot_format('Частота возникновения событий', 'Событие', '')"
   ]
  },
  {
   "cell_type": "code",
   "execution_count": 20,
   "metadata": {},
   "outputs": [
    {
     "data": {
      "image/png": "[encoded data removed]",
      "text/plain": [
       "<Figure size 1080x360 with 1 Axes>"
      ]
     },
     "metadata": {},
     "output_type": "display_data"
    }
   ],
   "source": [
    "#изучим, сколько пользователей совершали каждое из собыитий в каждой группе\n",
    "users_x_event = (logs_correct\n",
    "                 .groupby(['group_id','event'], as_index = False)\n",
    "                 .agg({'user_id':'nunique'})\n",
    "                 .sort_values(by = 'user_id', ascending = False)\n",
    "                 .rename(columns = {'user_id':'event_unique_users'})\n",
    "                )\n",
    "\n",
    "sns.barplot(data = users_x_event, x = 'event', y ='event_unique_users', hue = 'group_id')\n",
    "plt.legend(loc = 'upper center', bbox_to_anchor=(0.5, -0.2), ncol=3) #указываем положение легенды\n",
    "plot_format('Частота совершений событий пользователями в каждой группе', 'Событие', 'Уникальные пользователи')"
   ]
  },
  {
   "cell_type": "code",
   "execution_count": 21,
   "metadata": {},
   "outputs": [
    {
     "data": {
      "text/html": [
       "<style  type=\"text/css\" >\n",
       "    #T_0362865c_6bb9_11eb_aba8_acde48001122row0_col4 {\n",
       "            background-color:  #00451c;\n",
       "            color:  #f1f1f1;\n",
       "        }    #T_0362865c_6bb9_11eb_aba8_acde48001122row1_col4 {\n",
       "            background-color:  #5ab769;\n",
       "            color:  #000000;\n",
       "        }    #T_0362865c_6bb9_11eb_aba8_acde48001122row2_col4 {\n",
       "            background-color:  #8ed08b;\n",
       "            color:  #000000;\n",
       "        }    #T_0362865c_6bb9_11eb_aba8_acde48001122row3_col4 {\n",
       "            background-color:  #97d492;\n",
       "            color:  #000000;\n",
       "        }    #T_0362865c_6bb9_11eb_aba8_acde48001122row4_col4 {\n",
       "            background-color:  #f7fcf5;\n",
       "            color:  #000000;\n",
       "        }    #T_0362865c_6bb9_11eb_aba8_acde48001122row5_col4 {\n",
       "            background-color:  #00441b;\n",
       "            color:  #f1f1f1;\n",
       "        }    #T_0362865c_6bb9_11eb_aba8_acde48001122row6_col4 {\n",
       "            background-color:  #5ab769;\n",
       "            color:  #000000;\n",
       "        }    #T_0362865c_6bb9_11eb_aba8_acde48001122row7_col4 {\n",
       "            background-color:  #8bcf89;\n",
       "            color:  #000000;\n",
       "        }    #T_0362865c_6bb9_11eb_aba8_acde48001122row8_col4 {\n",
       "            background-color:  #98d594;\n",
       "            color:  #000000;\n",
       "        }    #T_0362865c_6bb9_11eb_aba8_acde48001122row9_col4 {\n",
       "            background-color:  #f7fcf5;\n",
       "            color:  #000000;\n",
       "        }    #T_0362865c_6bb9_11eb_aba8_acde48001122row10_col4 {\n",
       "            background-color:  #00441b;\n",
       "            color:  #f1f1f1;\n",
       "        }    #T_0362865c_6bb9_11eb_aba8_acde48001122row11_col4 {\n",
       "            background-color:  #52b365;\n",
       "            color:  #000000;\n",
       "        }    #T_0362865c_6bb9_11eb_aba8_acde48001122row12_col4 {\n",
       "            background-color:  #84cc83;\n",
       "            color:  #000000;\n",
       "        }    #T_0362865c_6bb9_11eb_aba8_acde48001122row13_col4 {\n",
       "            background-color:  #90d18d;\n",
       "            color:  #000000;\n",
       "        }    #T_0362865c_6bb9_11eb_aba8_acde48001122row14_col4 {\n",
       "            background-color:  #f7fcf5;\n",
       "            color:  #000000;\n",
       "        }</style><table id=\"T_0362865c_6bb9_11eb_aba8_acde48001122\" ><thead>    <tr>        <th class=\"blank level0\" ></th>        <th class=\"col_heading level0 col0\" >group_id</th>        <th class=\"col_heading level0 col1\" >event</th>        <th class=\"col_heading level0 col2\" >event_unique_users</th>        <th class=\"col_heading level0 col3\" >group_unique_users</th>        <th class=\"col_heading level0 col4\" >part</th>    </tr></thead><tbody>\n",
       "                <tr>\n",
       "                        <th id=\"T_0362865c_6bb9_11eb_aba8_acde48001122level0_row0\" class=\"row_heading level0 row0\" >0</th>\n",
       "                        <td id=\"T_0362865c_6bb9_11eb_aba8_acde48001122row0_col0\" class=\"data row0 col0\" >248</td>\n",
       "                        <td id=\"T_0362865c_6bb9_11eb_aba8_acde48001122row0_col1\" class=\"data row0 col1\" >MainScreenAppear</td>\n",
       "                        <td id=\"T_0362865c_6bb9_11eb_aba8_acde48001122row0_col2\" class=\"data row0 col2\" >2493</td>\n",
       "                        <td id=\"T_0362865c_6bb9_11eb_aba8_acde48001122row0_col3\" class=\"data row0 col3\" >2537</td>\n",
       "                        <td id=\"T_0362865c_6bb9_11eb_aba8_acde48001122row0_col4\" class=\"data row0 col4\" >0.982657</td>\n",
       "            </tr>\n",
       "            <tr>\n",
       "                        <th id=\"T_0362865c_6bb9_11eb_aba8_acde48001122level0_row1\" class=\"row_heading level0 row1\" >1</th>\n",
       "                        <td id=\"T_0362865c_6bb9_11eb_aba8_acde48001122row1_col0\" class=\"data row1 col0\" >248</td>\n",
       "                        <td id=\"T_0362865c_6bb9_11eb_aba8_acde48001122row1_col1\" class=\"data row1 col1\" >OffersScreenAppear</td>\n",
       "                        <td id=\"T_0362865c_6bb9_11eb_aba8_acde48001122row1_col2\" class=\"data row1 col2\" >1531</td>\n",
       "                        <td id=\"T_0362865c_6bb9_11eb_aba8_acde48001122row1_col3\" class=\"data row1 col3\" >2537</td>\n",
       "                        <td id=\"T_0362865c_6bb9_11eb_aba8_acde48001122row1_col4\" class=\"data row1 col4\" >0.603469</td>\n",
       "            </tr>\n",
       "            <tr>\n",
       "                        <th id=\"T_0362865c_6bb9_11eb_aba8_acde48001122level0_row2\" class=\"row_heading level0 row2\" >2</th>\n",
       "                        <td id=\"T_0362865c_6bb9_11eb_aba8_acde48001122row2_col0\" class=\"data row2 col0\" >248</td>\n",
       "                        <td id=\"T_0362865c_6bb9_11eb_aba8_acde48001122row2_col1\" class=\"data row2 col1\" >CartScreenAppear</td>\n",
       "                        <td id=\"T_0362865c_6bb9_11eb_aba8_acde48001122row2_col2\" class=\"data row2 col2\" >1230</td>\n",
       "                        <td id=\"T_0362865c_6bb9_11eb_aba8_acde48001122row2_col3\" class=\"data row2 col3\" >2537</td>\n",
       "                        <td id=\"T_0362865c_6bb9_11eb_aba8_acde48001122row2_col4\" class=\"data row2 col4\" >0.484825</td>\n",
       "            </tr>\n",
       "            <tr>\n",
       "                        <th id=\"T_0362865c_6bb9_11eb_aba8_acde48001122level0_row3\" class=\"row_heading level0 row3\" >3</th>\n",
       "                        <td id=\"T_0362865c_6bb9_11eb_aba8_acde48001122row3_col0\" class=\"data row3 col0\" >248</td>\n",
       "                        <td id=\"T_0362865c_6bb9_11eb_aba8_acde48001122row3_col1\" class=\"data row3 col1\" >PaymentScreenSuccessful</td>\n",
       "                        <td id=\"T_0362865c_6bb9_11eb_aba8_acde48001122row3_col2\" class=\"data row3 col2\" >1181</td>\n",
       "                        <td id=\"T_0362865c_6bb9_11eb_aba8_acde48001122row3_col3\" class=\"data row3 col3\" >2537</td>\n",
       "                        <td id=\"T_0362865c_6bb9_11eb_aba8_acde48001122row3_col4\" class=\"data row3 col4\" >0.46551</td>\n",
       "            </tr>\n",
       "            <tr>\n",
       "                        <th id=\"T_0362865c_6bb9_11eb_aba8_acde48001122level0_row4\" class=\"row_heading level0 row4\" >4</th>\n",
       "                        <td id=\"T_0362865c_6bb9_11eb_aba8_acde48001122row4_col0\" class=\"data row4 col0\" >248</td>\n",
       "                        <td id=\"T_0362865c_6bb9_11eb_aba8_acde48001122row4_col1\" class=\"data row4 col1\" >Tutorial</td>\n",
       "                        <td id=\"T_0362865c_6bb9_11eb_aba8_acde48001122row4_col2\" class=\"data row4 col2\" >279</td>\n",
       "                        <td id=\"T_0362865c_6bb9_11eb_aba8_acde48001122row4_col3\" class=\"data row4 col3\" >2537</td>\n",
       "                        <td id=\"T_0362865c_6bb9_11eb_aba8_acde48001122row4_col4\" class=\"data row4 col4\" >0.109972</td>\n",
       "            </tr>\n",
       "            <tr>\n",
       "                        <th id=\"T_0362865c_6bb9_11eb_aba8_acde48001122level0_row5\" class=\"row_heading level0 row5\" >5</th>\n",
       "                        <td id=\"T_0362865c_6bb9_11eb_aba8_acde48001122row5_col0\" class=\"data row5 col0\" >247</td>\n",
       "                        <td id=\"T_0362865c_6bb9_11eb_aba8_acde48001122row5_col1\" class=\"data row5 col1\" >MainScreenAppear</td>\n",
       "                        <td id=\"T_0362865c_6bb9_11eb_aba8_acde48001122row5_col2\" class=\"data row5 col2\" >2476</td>\n",
       "                        <td id=\"T_0362865c_6bb9_11eb_aba8_acde48001122row5_col3\" class=\"data row5 col3\" >2513</td>\n",
       "                        <td id=\"T_0362865c_6bb9_11eb_aba8_acde48001122row5_col4\" class=\"data row5 col4\" >0.985277</td>\n",
       "            </tr>\n",
       "            <tr>\n",
       "                        <th id=\"T_0362865c_6bb9_11eb_aba8_acde48001122level0_row6\" class=\"row_heading level0 row6\" >6</th>\n",
       "                        <td id=\"T_0362865c_6bb9_11eb_aba8_acde48001122row6_col0\" class=\"data row6 col0\" >247</td>\n",
       "                        <td id=\"T_0362865c_6bb9_11eb_aba8_acde48001122row6_col1\" class=\"data row6 col1\" >OffersScreenAppear</td>\n",
       "                        <td id=\"T_0362865c_6bb9_11eb_aba8_acde48001122row6_col2\" class=\"data row6 col2\" >1520</td>\n",
       "                        <td id=\"T_0362865c_6bb9_11eb_aba8_acde48001122row6_col3\" class=\"data row6 col3\" >2513</td>\n",
       "                        <td id=\"T_0362865c_6bb9_11eb_aba8_acde48001122row6_col4\" class=\"data row6 col4\" >0.604855</td>\n",
       "            </tr>\n",
       "            <tr>\n",
       "                        <th id=\"T_0362865c_6bb9_11eb_aba8_acde48001122level0_row7\" class=\"row_heading level0 row7\" >7</th>\n",
       "                        <td id=\"T_0362865c_6bb9_11eb_aba8_acde48001122row7_col0\" class=\"data row7 col0\" >247</td>\n",
       "                        <td id=\"T_0362865c_6bb9_11eb_aba8_acde48001122row7_col1\" class=\"data row7 col1\" >CartScreenAppear</td>\n",
       "                        <td id=\"T_0362865c_6bb9_11eb_aba8_acde48001122row7_col2\" class=\"data row7 col2\" >1238</td>\n",
       "                        <td id=\"T_0362865c_6bb9_11eb_aba8_acde48001122row7_col3\" class=\"data row7 col3\" >2513</td>\n",
       "                        <td id=\"T_0362865c_6bb9_11eb_aba8_acde48001122row7_col4\" class=\"data row7 col4\" >0.492638</td>\n",
       "            </tr>\n",
       "            <tr>\n",
       "                        <th id=\"T_0362865c_6bb9_11eb_aba8_acde48001122level0_row8\" class=\"row_heading level0 row8\" >8</th>\n",
       "                        <td id=\"T_0362865c_6bb9_11eb_aba8_acde48001122row8_col0\" class=\"data row8 col0\" >247</td>\n",
       "                        <td id=\"T_0362865c_6bb9_11eb_aba8_acde48001122row8_col1\" class=\"data row8 col1\" >PaymentScreenSuccessful</td>\n",
       "                        <td id=\"T_0362865c_6bb9_11eb_aba8_acde48001122row8_col2\" class=\"data row8 col2\" >1158</td>\n",
       "                        <td id=\"T_0362865c_6bb9_11eb_aba8_acde48001122row8_col3\" class=\"data row8 col3\" >2513</td>\n",
       "                        <td id=\"T_0362865c_6bb9_11eb_aba8_acde48001122row8_col4\" class=\"data row8 col4\" >0.460804</td>\n",
       "            </tr>\n",
       "            <tr>\n",
       "                        <th id=\"T_0362865c_6bb9_11eb_aba8_acde48001122level0_row9\" class=\"row_heading level0 row9\" >9</th>\n",
       "                        <td id=\"T_0362865c_6bb9_11eb_aba8_acde48001122row9_col0\" class=\"data row9 col0\" >247</td>\n",
       "                        <td id=\"T_0362865c_6bb9_11eb_aba8_acde48001122row9_col1\" class=\"data row9 col1\" >Tutorial</td>\n",
       "                        <td id=\"T_0362865c_6bb9_11eb_aba8_acde48001122row9_col2\" class=\"data row9 col2\" >283</td>\n",
       "                        <td id=\"T_0362865c_6bb9_11eb_aba8_acde48001122row9_col3\" class=\"data row9 col3\" >2513</td>\n",
       "                        <td id=\"T_0362865c_6bb9_11eb_aba8_acde48001122row9_col4\" class=\"data row9 col4\" >0.112614</td>\n",
       "            </tr>\n",
       "            <tr>\n",
       "                        <th id=\"T_0362865c_6bb9_11eb_aba8_acde48001122level0_row10\" class=\"row_heading level0 row10\" >10</th>\n",
       "                        <td id=\"T_0362865c_6bb9_11eb_aba8_acde48001122row10_col0\" class=\"data row10 col0\" >246</td>\n",
       "                        <td id=\"T_0362865c_6bb9_11eb_aba8_acde48001122row10_col1\" class=\"data row10 col1\" >MainScreenAppear</td>\n",
       "                        <td id=\"T_0362865c_6bb9_11eb_aba8_acde48001122row10_col2\" class=\"data row10 col2\" >2450</td>\n",
       "                        <td id=\"T_0362865c_6bb9_11eb_aba8_acde48001122row10_col3\" class=\"data row10 col3\" >2484</td>\n",
       "                        <td id=\"T_0362865c_6bb9_11eb_aba8_acde48001122row10_col4\" class=\"data row10 col4\" >0.986312</td>\n",
       "            </tr>\n",
       "            <tr>\n",
       "                        <th id=\"T_0362865c_6bb9_11eb_aba8_acde48001122level0_row11\" class=\"row_heading level0 row11\" >11</th>\n",
       "                        <td id=\"T_0362865c_6bb9_11eb_aba8_acde48001122row11_col0\" class=\"data row11 col0\" >246</td>\n",
       "                        <td id=\"T_0362865c_6bb9_11eb_aba8_acde48001122row11_col1\" class=\"data row11 col1\" >OffersScreenAppear</td>\n",
       "                        <td id=\"T_0362865c_6bb9_11eb_aba8_acde48001122row11_col2\" class=\"data row11 col2\" >1542</td>\n",
       "                        <td id=\"T_0362865c_6bb9_11eb_aba8_acde48001122row11_col3\" class=\"data row11 col3\" >2484</td>\n",
       "                        <td id=\"T_0362865c_6bb9_11eb_aba8_acde48001122row11_col4\" class=\"data row11 col4\" >0.620773</td>\n",
       "            </tr>\n",
       "            <tr>\n",
       "                        <th id=\"T_0362865c_6bb9_11eb_aba8_acde48001122level0_row12\" class=\"row_heading level0 row12\" >12</th>\n",
       "                        <td id=\"T_0362865c_6bb9_11eb_aba8_acde48001122row12_col0\" class=\"data row12 col0\" >246</td>\n",
       "                        <td id=\"T_0362865c_6bb9_11eb_aba8_acde48001122row12_col1\" class=\"data row12 col1\" >CartScreenAppear</td>\n",
       "                        <td id=\"T_0362865c_6bb9_11eb_aba8_acde48001122row12_col2\" class=\"data row12 col2\" >1266</td>\n",
       "                        <td id=\"T_0362865c_6bb9_11eb_aba8_acde48001122row12_col3\" class=\"data row12 col3\" >2484</td>\n",
       "                        <td id=\"T_0362865c_6bb9_11eb_aba8_acde48001122row12_col4\" class=\"data row12 col4\" >0.509662</td>\n",
       "            </tr>\n",
       "            <tr>\n",
       "                        <th id=\"T_0362865c_6bb9_11eb_aba8_acde48001122level0_row13\" class=\"row_heading level0 row13\" >13</th>\n",
       "                        <td id=\"T_0362865c_6bb9_11eb_aba8_acde48001122row13_col0\" class=\"data row13 col0\" >246</td>\n",
       "                        <td id=\"T_0362865c_6bb9_11eb_aba8_acde48001122row13_col1\" class=\"data row13 col1\" >PaymentScreenSuccessful</td>\n",
       "                        <td id=\"T_0362865c_6bb9_11eb_aba8_acde48001122row13_col2\" class=\"data row13 col2\" >1200</td>\n",
       "                        <td id=\"T_0362865c_6bb9_11eb_aba8_acde48001122row13_col3\" class=\"data row13 col3\" >2484</td>\n",
       "                        <td id=\"T_0362865c_6bb9_11eb_aba8_acde48001122row13_col4\" class=\"data row13 col4\" >0.483092</td>\n",
       "            </tr>\n",
       "            <tr>\n",
       "                        <th id=\"T_0362865c_6bb9_11eb_aba8_acde48001122level0_row14\" class=\"row_heading level0 row14\" >14</th>\n",
       "                        <td id=\"T_0362865c_6bb9_11eb_aba8_acde48001122row14_col0\" class=\"data row14 col0\" >246</td>\n",
       "                        <td id=\"T_0362865c_6bb9_11eb_aba8_acde48001122row14_col1\" class=\"data row14 col1\" >Tutorial</td>\n",
       "                        <td id=\"T_0362865c_6bb9_11eb_aba8_acde48001122row14_col2\" class=\"data row14 col2\" >278</td>\n",
       "                        <td id=\"T_0362865c_6bb9_11eb_aba8_acde48001122row14_col3\" class=\"data row14 col3\" >2484</td>\n",
       "                        <td id=\"T_0362865c_6bb9_11eb_aba8_acde48001122row14_col4\" class=\"data row14 col4\" >0.111916</td>\n",
       "            </tr>\n",
       "    </tbody></table>"
      ],
      "text/plain": [
       "<pandas.io.formats.style.Styler at 0x7ff5b7e23850>"
      ]
     },
     "execution_count": 21,
     "metadata": {},
     "output_type": "execute_result"
    }
   ],
   "source": [
    "#вычисляем количество уникальных пользователей в каждой группе\n",
    "unique_users = (logs_correct.groupby('group_id')\n",
    "                .agg({'user_id':'nunique'})\n",
    "                .rename(columns = {'user_id':'group_unique_users'})\n",
    "               )\n",
    "\n",
    "#объединим информацию об уникальных пользователях с информацией о совершенных событиях\n",
    "users_x_event = users_x_event.merge(unique_users, on = 'group_id')\n",
    "\n",
    "#вычислим долю пользователей, которые хоть раз совершали событие в каждой группе \n",
    "users_x_event['part'] = users_x_event['event_unique_users']/users_x_event['group_unique_users']\n",
    "users_x_event.style.background_gradient(subset = ['part'], cmap='Greens') "
   ]
  },
  {
   "cell_type": "markdown",
   "metadata": {},
   "source": [
    "Количество пользователей на этапах разное. Во всех группах число пользователей уменьшается от этапа к этапу в следующем порядке:\n",
    "- MainScreenAppear\n",
    "- OffersScreenAppear\n",
    "- CartScreenAppear\n",
    "- PaymentScreenSuccessful\t\n",
    "- Tutorial\n",
    "\n",
    "С одной стороны можно сказать, что это и есть наша искомая воронка, но последнее событие  в списке (Tutorial) выбивается из общей логики. Воронка должна закончиться на целевом действии - покупке. Скорее всего Tutorial — это обучение, которое пропускает большая часть пользователей. Можем исключить этот этап из воронки, а еще стоит задуматься над необходимостью наличия этого этапа в приложении. Или над инфромативностью этого этапа. \n"
   ]
  },
  {
   "cell_type": "code",
   "execution_count": 22,
   "metadata": {},
   "outputs": [],
   "source": [
    "# удалям этап tutorial\n",
    "users_x_event = users_x_event[users_x_event['event'] != 'Tutorial'] "
   ]
  },
  {
   "cell_type": "code",
   "execution_count": 23,
   "metadata": {},
   "outputs": [
    {
     "data": {
      "image/svg+xml": [
       "<svg class=\"main-svg\" xmlns=\"http://www.w3.org/2000/svg\" xmlns:xlink=\"http://www.w3.org/1999/xlink\" width=\"1000\" height=\"500\" style=\"\" viewBox=\"0 0 1000 500\"><rect x=\"0\" y=\"0\" width=\"1000\" height=\"500\" style=\"fill: rgb(255, 255, 255); fill-opacity: 1;\"/><defs id=\"defs-f38e16\"><g class=\"clips\"><clipPath id=\"clipf38e16xyplot\" class=\"plotclip\"><rect width=\"735\" height=\"320\"/></clipPath><clipPath class=\"axesclip\" id=\"clipf38e16x\"><rect x=\"170\" y=\"0\" width=\"735\" height=\"500\"/></clipPath><clipPath class=\"axesclip\" id=\"clipf38e16y\"><rect x=\"0\" y=\"100\" width=\"1000\" height=\"320\"/></clipPath><clipPath class=\"axesclip\" id=\"clipf38e16xy\"><rect x=\"170\" y=\"100\" width=\"735\" height=\"320\"/></clipPath></g><g class=\"gradients\"/></defs><g class=\"bglayer\"><rect class=\"bg\" x=\"170\" y=\"100\" width=\"735\" height=\"320\" style=\"fill: rgb(229, 236, 246); fill-opacity: 1; stroke-width: 0;\"/></g><g class=\"layer-below\"><g class=\"imagelayer\"/><g class=\"shapelayer\"/></g><g class=\"cartesianlayer\"><g class=\"subplot xy\"><g class=\"layer-subplot\"><g class=\"shapelayer\"/><g class=\"imagelayer\"/></g><g class=\"gridlayer\"><g class=\"x\"/><g class=\"y\"/></g><g class=\"zerolinelayer\"/><path class=\"xlines-below\"/><path class=\"ylines-below\"/><g class=\"overlines-below\"/><g class=\"xaxislayer-below\"/><g class=\"yaxislayer-below\"/><g class=\"overaxes-below\"/><g class=\"plot\" transform=\"translate(170,100)\" clip-path=\"url('#clipf38e16xyplot')\"><g class=\"funnellayer mlayer\"><g class=\"trace bars\" style=\"opacity: 1;\"><g class=\"regions\"><g class=\"region\"><path d=\"M36.75,72L162.74,88H300.23L255.2,72Z\" style=\"stroke-width: 0; fill: rgb(35, 139, 69); fill-opacity: 0.5;\"/></g><g class=\"region\"><path d=\"M162.74,152L201.03,168H313.91L300.23,152Z\" style=\"stroke-width: 0; fill: rgb(35, 139, 69); fill-opacity: 0.5;\"/></g><g class=\"region\"><path d=\"M201.03,232L209.73,248H316.72L313.91,232Z\" style=\"stroke-width: 0; fill: rgb(35, 139, 69); fill-opacity: 0.5;\"/></g><g class=\"region\"><path d=\"M0,0Z\" style=\"stroke-width: 0; fill: rgb(35, 139, 69); fill-opacity: 0.5;\"/></g></g><g class=\"points\"><g class=\"point\"><path d=\"M36.75,8V72H255.2V8Z\" style=\"vector-effect: non-scaling-stroke; fill: rgb(35, 139, 69); fill-opacity: 1; stroke: rgb(68, 68, 68); stroke-opacity: 1; stroke-width: 0px; opacity: 1;\"/><text class=\"bartext bartext-inside\" text-anchor=\"middle\" data-notex=\"1\" x=\"0\" y=\"0\" style=\"font-family: 'Open Sans', verdana, arial, sans-serif; font-size: 12px; fill: rgb(255, 255, 255); fill-opacity: 1; white-space: pre;\" transform=\"translate(145.975,29.1484375)\"><tspan class=\"line\" dy=\"0em\" x=\"0\" y=\"0\">2450</tspan><tspan class=\"line\" dy=\"1.3em\" x=\"0\" y=\"0\">100% of initial</tspan><tspan class=\"line\" dy=\"2.6em\" x=\"0\" y=\"0\">100% of previous</tspan></text></g><g class=\"point\"><path d=\"M162.74,88V152H300.23V88Z\" style=\"vector-effect: non-scaling-stroke; fill: rgb(35, 139, 69); fill-opacity: 1; stroke: rgb(68, 68, 68); stroke-opacity: 1; stroke-width: 0px; opacity: 1;\"/><text class=\"bartext bartext-inside\" text-anchor=\"middle\" data-notex=\"1\" x=\"0\" y=\"0\" style=\"font-family: 'Open Sans', verdana, arial, sans-serif; font-size: 12px; fill: rgb(255, 255, 255); fill-opacity: 1; white-space: pre;\" transform=\"translate(231.485,109.1484375)\"><tspan class=\"line\" dy=\"0em\" x=\"0\" y=\"0\">1542</tspan><tspan class=\"line\" dy=\"1.3em\" x=\"0\" y=\"0\">63% of initial</tspan><tspan class=\"line\" dy=\"2.6em\" x=\"0\" y=\"0\">63% of previous</tspan></text></g><g class=\"point\"><path d=\"M201.03,168V232H313.91V168Z\" style=\"vector-effect: non-scaling-stroke; fill: rgb(35, 139, 69); fill-opacity: 1; stroke: rgb(68, 68, 68); stroke-opacity: 1; stroke-width: 0px; opacity: 1;\"/><text class=\"bartext bartext-inside\" text-anchor=\"middle\" data-notex=\"1\" x=\"0\" y=\"0\" style=\"font-family: 'Open Sans', verdana, arial, sans-serif; font-size: 12px; fill: rgb(255, 255, 255); fill-opacity: 1; white-space: pre;\" transform=\"translate(257.47,189.1484375)\"><tspan class=\"line\" dy=\"0em\" x=\"0\" y=\"0\">1266</tspan><tspan class=\"line\" dy=\"1.3em\" x=\"0\" y=\"0\">52% of initial</tspan><tspan class=\"line\" dy=\"2.6em\" x=\"0\" y=\"0\">82% of previous</tspan></text></g><g class=\"point\"><path d=\"M209.73,248V312H316.72V248Z\" style=\"vector-effect: non-scaling-stroke; fill: rgb(35, 139, 69); fill-opacity: 1; stroke: rgb(68, 68, 68); stroke-opacity: 1; stroke-width: 0px; opacity: 1;\"/><text class=\"bartext bartext-inside\" text-anchor=\"middle\" data-notex=\"1\" x=\"0\" y=\"0\" style=\"font-family: 'Open Sans', verdana, arial, sans-serif; font-size: 12px; fill: rgb(255, 255, 255); fill-opacity: 1; white-space: pre;\" transform=\"translate(263.225,269.1484375)\"><tspan class=\"line\" dy=\"0em\" x=\"0\" y=\"0\">1200</tspan><tspan class=\"line\" dy=\"1.3em\" x=\"0\" y=\"0\">49% of initial</tspan><tspan class=\"line\" dy=\"2.6em\" x=\"0\" y=\"0\">95% of previous</tspan></text></g></g></g><g class=\"trace bars\" style=\"opacity: 1;\"><g class=\"regions\"><g class=\"region\"><path d=\"M255.2,72L300.23,88H435.75L475.97,72Z\" style=\"stroke-width: 0; fill: rgb(161, 217, 155); fill-opacity: 0.5;\"/></g><g class=\"region\"><path d=\"M300.23,152L313.91,168H424.3L435.75,152Z\" style=\"stroke-width: 0; fill: rgb(161, 217, 155); fill-opacity: 0.5;\"/></g><g class=\"region\"><path d=\"M313.91,232L316.72,248H419.97L424.3,232Z\" style=\"stroke-width: 0; fill: rgb(161, 217, 155); fill-opacity: 0.5;\"/></g><g class=\"region\"><path d=\"M0,0Z\" style=\"stroke-width: 0; fill: rgb(161, 217, 155); fill-opacity: 0.5;\"/></g></g><g class=\"points\"><g class=\"point\"><path d=\"M255.2,8V72H475.97V8Z\" style=\"vector-effect: non-scaling-stroke; fill: rgb(161, 217, 155); fill-opacity: 1; stroke: rgb(68, 68, 68); stroke-opacity: 1; stroke-width: 0px; opacity: 1;\"/><text class=\"bartext bartext-inside\" text-anchor=\"middle\" data-notex=\"1\" x=\"0\" y=\"0\" style=\"font-family: 'Open Sans', verdana, arial, sans-serif; font-size: 12px; fill: rgb(68, 68, 68); fill-opacity: 1; white-space: pre;\" transform=\"translate(365.58500000000004,29.1484375)\"><tspan class=\"line\" dy=\"0em\" x=\"0\" y=\"0\">2476</tspan><tspan class=\"line\" dy=\"1.3em\" x=\"0\" y=\"0\">100% of initial</tspan><tspan class=\"line\" dy=\"2.6em\" x=\"0\" y=\"0\">100% of previous</tspan></text></g><g class=\"point\"><path d=\"M300.23,88V152H435.75V88Z\" style=\"vector-effect: non-scaling-stroke; fill: rgb(161, 217, 155); fill-opacity: 1; stroke: rgb(68, 68, 68); stroke-opacity: 1; stroke-width: 0px; opacity: 1;\"/><text class=\"bartext bartext-inside\" text-anchor=\"middle\" data-notex=\"1\" x=\"0\" y=\"0\" style=\"font-family: 'Open Sans', verdana, arial, sans-serif; font-size: 12px; fill: rgb(68, 68, 68); fill-opacity: 1; white-space: pre;\" transform=\"translate(367.99,109.1484375)\"><tspan class=\"line\" dy=\"0em\" x=\"0\" y=\"0\">1520</tspan><tspan class=\"line\" dy=\"1.3em\" x=\"0\" y=\"0\">61% of initial</tspan><tspan class=\"line\" dy=\"2.6em\" x=\"0\" y=\"0\">61% of previous</tspan></text></g><g class=\"point\"><path d=\"M313.91,168V232H424.3V168Z\" style=\"vector-effect: non-scaling-stroke; fill: rgb(161, 217, 155); fill-opacity: 1; stroke: rgb(68, 68, 68); stroke-opacity: 1; stroke-width: 0px; opacity: 1;\"/><text class=\"bartext bartext-inside\" text-anchor=\"middle\" data-notex=\"1\" x=\"0\" y=\"0\" style=\"font-family: 'Open Sans', verdana, arial, sans-serif; font-size: 12px; fill: rgb(68, 68, 68); fill-opacity: 1; white-space: pre;\" transform=\"translate(369.105,189.1484375)\"><tspan class=\"line\" dy=\"0em\" x=\"0\" y=\"0\">1238</tspan><tspan class=\"line\" dy=\"1.3em\" x=\"0\" y=\"0\">50% of initial</tspan><tspan class=\"line\" dy=\"2.6em\" x=\"0\" y=\"0\">81% of previous</tspan></text></g><g class=\"point\"><path d=\"M316.72,248V312H419.97V248Z\" style=\"vector-effect: non-scaling-stroke; fill: rgb(161, 217, 155); fill-opacity: 1; stroke: rgb(68, 68, 68); stroke-opacity: 1; stroke-width: 0px; opacity: 1;\"/><text class=\"bartext bartext-inside\" text-anchor=\"middle\" data-notex=\"1\" x=\"0\" y=\"0\" style=\"font-family: 'Open Sans', verdana, arial, sans-serif; font-size: 12px; fill: rgb(68, 68, 68); fill-opacity: 1; white-space: pre;\" transform=\"translate(368.345,269.3838219113486)scale(0.9783087079534738)\"><tspan class=\"line\" dy=\"0em\" x=\"0\" y=\"0\">1158</tspan><tspan class=\"line\" dy=\"1.3em\" x=\"0\" y=\"0\">47% of initial</tspan><tspan class=\"line\" dy=\"2.6em\" x=\"0\" y=\"0\">94% of previous</tspan></text></g></g></g><g class=\"trace bars\" style=\"opacity: 1;\"><g class=\"regions\"><g class=\"region\"><path d=\"M475.97,72L435.75,88H572.26L698.25,72Z\" style=\"stroke-width: 0; fill: rgb(199, 233, 192); fill-opacity: 0.5;\"/></g><g class=\"region\"><path d=\"M435.75,152L424.3,168H533.97L572.26,152Z\" style=\"stroke-width: 0; fill: rgb(199, 233, 192); fill-opacity: 0.5;\"/></g><g class=\"region\"><path d=\"M424.3,232L419.97,248H525.27L533.97,232Z\" style=\"stroke-width: 0; fill: rgb(199, 233, 192); fill-opacity: 0.5;\"/></g><g class=\"region\"><path d=\"M0,0Z\" style=\"stroke-width: 0; fill: rgb(199, 233, 192); fill-opacity: 0.5;\"/></g></g><g class=\"points\"><g class=\"point\"><path d=\"M475.97,8V72H698.25V8Z\" style=\"vector-effect: non-scaling-stroke; fill: rgb(199, 233, 192); fill-opacity: 1; stroke: rgb(68, 68, 68); stroke-opacity: 1; stroke-width: 0px; opacity: 1;\"/><text class=\"bartext bartext-inside\" text-anchor=\"middle\" data-notex=\"1\" x=\"0\" y=\"0\" style=\"font-family: 'Open Sans', verdana, arial, sans-serif; font-size: 12px; fill: rgb(68, 68, 68); fill-opacity: 1; white-space: pre;\" transform=\"translate(587.11,29.1484375)\"><tspan class=\"line\" dy=\"0em\" x=\"0\" y=\"0\">2493</tspan><tspan class=\"line\" dy=\"1.3em\" x=\"0\" y=\"0\">100% of initial</tspan><tspan class=\"line\" dy=\"2.6em\" x=\"0\" y=\"0\">100% of previous</tspan></text></g><g class=\"point\"><path d=\"M435.75,88V152H572.26V88Z\" style=\"vector-effect: non-scaling-stroke; fill: rgb(199, 233, 192); fill-opacity: 1; stroke: rgb(68, 68, 68); stroke-opacity: 1; stroke-width: 0px; opacity: 1;\"/><text class=\"bartext bartext-inside\" text-anchor=\"middle\" data-notex=\"1\" x=\"0\" y=\"0\" style=\"font-family: 'Open Sans', verdana, arial, sans-serif; font-size: 12px; fill: rgb(68, 68, 68); fill-opacity: 1; white-space: pre;\" transform=\"translate(504.005,109.1484375)\"><tspan class=\"line\" dy=\"0em\" x=\"0\" y=\"0\">1531</tspan><tspan class=\"line\" dy=\"1.3em\" x=\"0\" y=\"0\">61% of initial</tspan><tspan class=\"line\" dy=\"2.6em\" x=\"0\" y=\"0\">61% of previous</tspan></text></g><g class=\"point\"><path d=\"M424.3,168V232H533.97V168Z\" style=\"vector-effect: non-scaling-stroke; fill: rgb(199, 233, 192); fill-opacity: 1; stroke: rgb(68, 68, 68); stroke-opacity: 1; stroke-width: 0px; opacity: 1;\"/><text class=\"bartext bartext-inside\" text-anchor=\"middle\" data-notex=\"1\" x=\"0\" y=\"0\" style=\"font-family: 'Open Sans', verdana, arial, sans-serif; font-size: 12px; fill: rgb(68, 68, 68); fill-opacity: 1; white-space: pre;\" transform=\"translate(479.135,189.1484375)\"><tspan class=\"line\" dy=\"0em\" x=\"0\" y=\"0\">1230</tspan><tspan class=\"line\" dy=\"1.3em\" x=\"0\" y=\"0\">49% of initial</tspan><tspan class=\"line\" dy=\"2.6em\" x=\"0\" y=\"0\">80% of previous</tspan></text></g><g class=\"point\"><path d=\"M419.97,248V312H525.27V248Z\" style=\"vector-effect: non-scaling-stroke; fill: rgb(199, 233, 192); fill-opacity: 1; stroke: rgb(68, 68, 68); stroke-opacity: 1; stroke-width: 0px; opacity: 1;\"/><text class=\"bartext bartext-inside\" text-anchor=\"middle\" data-notex=\"1\" x=\"0\" y=\"0\" style=\"font-family: 'Open Sans', verdana, arial, sans-serif; font-size: 12px; fill: rgb(68, 68, 68); fill-opacity: 1; white-space: pre;\" transform=\"translate(472.62,269.1600361521534)scale(0.9989311537252432)\"><tspan class=\"line\" dy=\"0em\" x=\"0\" y=\"0\">1181</tspan><tspan class=\"line\" dy=\"1.3em\" x=\"0\" y=\"0\">47% of initial</tspan><tspan class=\"line\" dy=\"2.6em\" x=\"0\" y=\"0\">96% of previous</tspan></text></g></g></g></g></g><g class=\"overplot\"/><path class=\"xlines-above crisp\" style=\"fill: none;\" d=\"M0,0\"/><path class=\"ylines-above crisp\" style=\"fill: none;\" d=\"M0,0\"/><g class=\"overlines-above\"/><g class=\"xaxislayer-above\"/><g class=\"yaxislayer-above\"><g class=\"ytick\"><text text-anchor=\"end\" x=\"169\" y=\"4.199999999999999\" transform=\"translate(0,380)\" style=\"font-family: 'Open Sans', verdana, arial, sans-serif; font-size: 12px; fill: rgb(42, 63, 95); fill-opacity: 1; white-space: pre;\">PaymentScreenSuccessful</text></g><g class=\"ytick\"><text text-anchor=\"end\" x=\"169\" y=\"4.199999999999999\" transform=\"translate(0,300)\" style=\"font-family: 'Open Sans', verdana, arial, sans-serif; font-size: 12px; fill: rgb(42, 63, 95); fill-opacity: 1; white-space: pre;\">CartScreenAppear</text></g><g class=\"ytick\"><text text-anchor=\"end\" x=\"169\" y=\"4.199999999999999\" transform=\"translate(0,220)\" style=\"font-family: 'Open Sans', verdana, arial, sans-serif; font-size: 12px; fill: rgb(42, 63, 95); fill-opacity: 1; white-space: pre;\">OffersScreenAppear</text></g><g class=\"ytick\"><text text-anchor=\"end\" x=\"169\" y=\"4.199999999999999\" transform=\"translate(0,140)\" style=\"font-family: 'Open Sans', verdana, arial, sans-serif; font-size: 12px; fill: rgb(42, 63, 95); fill-opacity: 1; white-space: pre;\">MainScreenAppear</text></g></g><g class=\"overaxes-above\"/></g></g><g class=\"polarlayer\"/><g class=\"ternarylayer\"/><g class=\"geolayer\"/><g class=\"funnelarealayer\"/><g class=\"pielayer\"/><g class=\"treemaplayer\"/><g class=\"sunburstlayer\"/><g class=\"glimages\"/><defs id=\"topdefs-f38e16\"><g class=\"clips\"/><clipPath id=\"legendf38e16\"><rect width=\"68\" height=\"67\" x=\"0\" y=\"0\"/></clipPath></defs><g class=\"layer-above\"><g class=\"imagelayer\"/><g class=\"shapelayer\"/></g><g class=\"infolayer\"><g class=\"legend\" pointer-events=\"all\" transform=\"translate(919.7,100)\"><rect class=\"bg\" shape-rendering=\"crispEdges\" style=\"stroke: rgb(68, 68, 68); stroke-opacity: 1; fill: rgb(255, 255, 255); fill-opacity: 1; stroke-width: 0px;\" width=\"68\" height=\"67\" x=\"0\" y=\"0\"/><g class=\"scrollbox\" transform=\"\" clip-path=\"url('#legendf38e16')\"><g class=\"groups\"><g class=\"traces\" style=\"opacity: 1;\" transform=\"translate(0,14.5)\"><text class=\"legendtext\" text-anchor=\"start\" x=\"40\" y=\"4.680000000000001\" style=\"font-family: 'Open Sans', verdana, arial, sans-serif; font-size: 12px; fill: rgb(42, 63, 95); fill-opacity: 1; white-space: pre;\">246</text><g class=\"layers\" style=\"opacity: 1;\"><g class=\"legendfill\"/><g class=\"legendlines\"/><g class=\"legendsymbols\"><g class=\"legendpoints\"><path class=\"legendfunnel\" d=\"M6,6H-6V-6H6Z\" transform=\"translate(20,0)\" style=\"stroke-width: 0px; fill: rgb(35, 139, 69); fill-opacity: 1;\"/></g></g></g><rect class=\"legendtoggle\" x=\"0\" y=\"-9.5\" width=\"62.890625\" height=\"19\" style=\"fill: rgb(0, 0, 0); fill-opacity: 0;\"/></g><g class=\"traces\" style=\"opacity: 1;\" transform=\"translate(0,33.5)\"><text class=\"legendtext\" text-anchor=\"start\" x=\"40\" y=\"4.680000000000001\" style=\"font-family: 'Open Sans', verdana, arial, sans-serif; font-size: 12px; fill: rgb(42, 63, 95); fill-opacity: 1; white-space: pre;\">247</text><g class=\"layers\" style=\"opacity: 1;\"><g class=\"legendfill\"/><g class=\"legendlines\"/><g class=\"legendsymbols\"><g class=\"legendpoints\"><path class=\"legendfunnel\" d=\"M6,6H-6V-6H6Z\" transform=\"translate(20,0)\" style=\"stroke-width: 0px; fill: rgb(161, 217, 155); fill-opacity: 1;\"/></g></g></g><rect class=\"legendtoggle\" x=\"0\" y=\"-9.5\" width=\"62.890625\" height=\"19\" style=\"fill: rgb(0, 0, 0); fill-opacity: 0;\"/></g><g class=\"traces\" style=\"opacity: 1;\" transform=\"translate(0,52.5)\"><text class=\"legendtext\" text-anchor=\"start\" x=\"40\" y=\"4.680000000000001\" style=\"font-family: 'Open Sans', verdana, arial, sans-serif; font-size: 12px; fill: rgb(42, 63, 95); fill-opacity: 1; white-space: pre;\">248</text><g class=\"layers\" style=\"opacity: 1;\"><g class=\"legendfill\"/><g class=\"legendlines\"/><g class=\"legendsymbols\"><g class=\"legendpoints\"><path class=\"legendfunnel\" d=\"M6,6H-6V-6H6Z\" transform=\"translate(20,0)\" style=\"stroke-width: 0px; fill: rgb(199, 233, 192); fill-opacity: 1;\"/></g></g></g><rect class=\"legendtoggle\" x=\"0\" y=\"-9.5\" width=\"62.890625\" height=\"19\" style=\"fill: rgb(0, 0, 0); fill-opacity: 0;\"/></g></g></g><rect class=\"scrollbar\" rx=\"20\" ry=\"3\" width=\"0\" height=\"0\" style=\"fill: rgb(128, 139, 164); fill-opacity: 1;\" x=\"0\" y=\"0\"/></g><g class=\"g-gtitle\"><text class=\"gtitle\" x=\"50\" y=\"50\" text-anchor=\"start\" dy=\"0em\" style=\"font-family: 'Open Sans', verdana, arial, sans-serif; font-size: 17px; fill: rgb(42, 63, 95); opacity: 1; font-weight: normal; white-space: pre;\">Воронка продаж</text></g><g class=\"g-ytitle\"/></g></svg>"
      ]
     },
     "metadata": {},
     "output_type": "display_data"
    }
   ],
   "source": [
    "# выделяем массив с названиями этапов и массивы с количеством пользователей на этапах для каждой группы\n",
    "funnel_steps = users_x_event['event'].unique()\n",
    "funnel_users_246 = users_x_event[users_x_event['group_id'] == 246]['event_unique_users']\n",
    "funnel_users_247 = users_x_event[users_x_event['group_id'] == 247]['event_unique_users']\n",
    "funnel_users_248 = users_x_event[users_x_event['group_id'] == 248]['event_unique_users']\n",
    "\n",
    "# строим воронку\n",
    "fig = go.Figure()\n",
    "fig.add_trace(go.Funnel(\n",
    "    name = '246',\n",
    "    y = funnel_steps,  # наименования этапов\n",
    "    x = funnel_users_246,  # значения на этапах\n",
    "    # выводить подписи на элементах воронки: значение, %от первого этапа, %от предыдущего этапа\n",
    "    textinfo = \"value+percent initial+percent previous\", \n",
    "    textposition = 'inside', \n",
    "    marker = {\"color\": \"rgb(35,139,69)\"},\n",
    "    hoverinfo = 'none'))\n",
    "\n",
    "fig.add_trace(go.Funnel(\n",
    "    name = '247',\n",
    "    orientation = \"h\",\n",
    "    y = funnel_steps,\n",
    "    x = funnel_users_247,\n",
    "    textinfo = \"value+percent initial+percent previous\",\n",
    "    textposition = 'inside',\n",
    "    marker = {\"color\": \"rgb(161,217,155)\"},\n",
    "    hoverinfo = 'none'))\n",
    "\n",
    "fig.add_trace(go.Funnel(\n",
    "    name = '248',\n",
    "    orientation = \"h\",\n",
    "    y = funnel_steps,\n",
    "    x = funnel_users_248,\n",
    "    textinfo = \"value+percent initial+percent previous\",\n",
    "    textposition = 'inside',\n",
    "    marker = {\"color\": \"rgb(199,233,192)\"},\n",
    "    hoverinfo = 'none'))\n",
    "\n",
    "fig.update_layout(title=\"Воронка продаж\")\n",
    "\n",
    "fig.show()"
   ]
  },
  {
   "cell_type": "markdown",
   "metadata": {},
   "source": [
    "Верно для каждой группы: **больше всего пользователей теряется при переходе не этап \"OffersScreenAppear\"**: около 40%. При этом, если пользователи перешли на этот этап, то дальнейшая воронка выглядит успешной; а пользователи, которые дошли до этапа корзины, совершают оплату а 95% случаев. \n",
    "\n",
    "От первого события до оплаты доходит ~48% пользователей. "
   ]
  },
  {
   "cell_type": "markdown",
   "metadata": {},
   "source": [
    "## Исследование результатов A/A/B-эксперимента<a id='header_2_2'></a>"
   ]
  },
  {
   "cell_type": "markdown",
   "metadata": {},
   "source": [
    "Количество пользователей в каждой из групп:"
   ]
  },
  {
   "cell_type": "code",
   "execution_count": 24,
   "metadata": {},
   "outputs": [
    {
     "data": {
      "text/html": [
       "<div>\n",
       "<style scoped>\n",
       "    .dataframe tbody tr th:only-of-type {\n",
       "        vertical-align: middle;\n",
       "    }\n",
       "\n",
       "    .dataframe tbody tr th {\n",
       "        vertical-align: top;\n",
       "    }\n",
       "\n",
       "    .dataframe thead th {\n",
       "        text-align: right;\n",
       "    }\n",
       "</style>\n",
       "<table border=\"1\" class=\"dataframe\">\n",
       "  <thead>\n",
       "    <tr style=\"text-align: right;\">\n",
       "      <th></th>\n",
       "      <th>group_unique_users</th>\n",
       "    </tr>\n",
       "    <tr>\n",
       "      <th>group_id</th>\n",
       "      <th></th>\n",
       "    </tr>\n",
       "  </thead>\n",
       "  <tbody>\n",
       "    <tr>\n",
       "      <td>246</td>\n",
       "      <td>2484</td>\n",
       "    </tr>\n",
       "    <tr>\n",
       "      <td>247</td>\n",
       "      <td>2513</td>\n",
       "    </tr>\n",
       "    <tr>\n",
       "      <td>248</td>\n",
       "      <td>2537</td>\n",
       "    </tr>\n",
       "  </tbody>\n",
       "</table>\n",
       "</div>"
      ],
      "text/plain": [
       "          group_unique_users\n",
       "group_id                    \n",
       "246                     2484\n",
       "247                     2513\n",
       "248                     2537"
      ]
     },
     "execution_count": 24,
     "metadata": {},
     "output_type": "execute_result"
    }
   ],
   "source": [
    "unique_users"
   ]
  },
  {
   "cell_type": "markdown",
   "metadata": {},
   "source": [
    "Создадим объединенную группу из групп 246 и 247:"
   ]
  },
  {
   "cell_type": "code",
   "execution_count": 25,
   "metadata": {},
   "outputs": [
    {
     "data": {
      "text/html": [
       "<div>\n",
       "<style scoped>\n",
       "    .dataframe tbody tr th:only-of-type {\n",
       "        vertical-align: middle;\n",
       "    }\n",
       "\n",
       "    .dataframe tbody tr th {\n",
       "        vertical-align: top;\n",
       "    }\n",
       "\n",
       "    .dataframe thead th {\n",
       "        text-align: right;\n",
       "    }\n",
       "</style>\n",
       "<table border=\"1\" class=\"dataframe\">\n",
       "  <thead>\n",
       "    <tr style=\"text-align: right;\">\n",
       "      <th></th>\n",
       "      <th>group_id</th>\n",
       "      <th>event</th>\n",
       "      <th>event_unique_users</th>\n",
       "      <th>group_unique_users</th>\n",
       "      <th>part</th>\n",
       "    </tr>\n",
       "  </thead>\n",
       "  <tbody>\n",
       "    <tr>\n",
       "      <td>0</td>\n",
       "      <td>248</td>\n",
       "      <td>MainScreenAppear</td>\n",
       "      <td>2493</td>\n",
       "      <td>2537</td>\n",
       "      <td>0.982657</td>\n",
       "    </tr>\n",
       "    <tr>\n",
       "      <td>1</td>\n",
       "      <td>248</td>\n",
       "      <td>OffersScreenAppear</td>\n",
       "      <td>1531</td>\n",
       "      <td>2537</td>\n",
       "      <td>0.603469</td>\n",
       "    </tr>\n",
       "    <tr>\n",
       "      <td>2</td>\n",
       "      <td>248</td>\n",
       "      <td>CartScreenAppear</td>\n",
       "      <td>1230</td>\n",
       "      <td>2537</td>\n",
       "      <td>0.484825</td>\n",
       "    </tr>\n",
       "    <tr>\n",
       "      <td>3</td>\n",
       "      <td>248</td>\n",
       "      <td>PaymentScreenSuccessful</td>\n",
       "      <td>1181</td>\n",
       "      <td>2537</td>\n",
       "      <td>0.465510</td>\n",
       "    </tr>\n",
       "    <tr>\n",
       "      <td>4</td>\n",
       "      <td>247</td>\n",
       "      <td>MainScreenAppear</td>\n",
       "      <td>2476</td>\n",
       "      <td>2513</td>\n",
       "      <td>0.985277</td>\n",
       "    </tr>\n",
       "    <tr>\n",
       "      <td>5</td>\n",
       "      <td>247</td>\n",
       "      <td>OffersScreenAppear</td>\n",
       "      <td>1520</td>\n",
       "      <td>2513</td>\n",
       "      <td>0.604855</td>\n",
       "    </tr>\n",
       "    <tr>\n",
       "      <td>6</td>\n",
       "      <td>247</td>\n",
       "      <td>CartScreenAppear</td>\n",
       "      <td>1238</td>\n",
       "      <td>2513</td>\n",
       "      <td>0.492638</td>\n",
       "    </tr>\n",
       "    <tr>\n",
       "      <td>7</td>\n",
       "      <td>247</td>\n",
       "      <td>PaymentScreenSuccessful</td>\n",
       "      <td>1158</td>\n",
       "      <td>2513</td>\n",
       "      <td>0.460804</td>\n",
       "    </tr>\n",
       "    <tr>\n",
       "      <td>8</td>\n",
       "      <td>246</td>\n",
       "      <td>MainScreenAppear</td>\n",
       "      <td>2450</td>\n",
       "      <td>2484</td>\n",
       "      <td>0.986312</td>\n",
       "    </tr>\n",
       "    <tr>\n",
       "      <td>9</td>\n",
       "      <td>246</td>\n",
       "      <td>OffersScreenAppear</td>\n",
       "      <td>1542</td>\n",
       "      <td>2484</td>\n",
       "      <td>0.620773</td>\n",
       "    </tr>\n",
       "    <tr>\n",
       "      <td>10</td>\n",
       "      <td>246</td>\n",
       "      <td>CartScreenAppear</td>\n",
       "      <td>1266</td>\n",
       "      <td>2484</td>\n",
       "      <td>0.509662</td>\n",
       "    </tr>\n",
       "    <tr>\n",
       "      <td>11</td>\n",
       "      <td>246</td>\n",
       "      <td>PaymentScreenSuccessful</td>\n",
       "      <td>1200</td>\n",
       "      <td>2484</td>\n",
       "      <td>0.483092</td>\n",
       "    </tr>\n",
       "    <tr>\n",
       "      <td>12</td>\n",
       "      <td>246247</td>\n",
       "      <td>CartScreenAppear</td>\n",
       "      <td>2504</td>\n",
       "      <td>4997</td>\n",
       "      <td>0.501101</td>\n",
       "    </tr>\n",
       "    <tr>\n",
       "      <td>13</td>\n",
       "      <td>246247</td>\n",
       "      <td>MainScreenAppear</td>\n",
       "      <td>4926</td>\n",
       "      <td>4997</td>\n",
       "      <td>0.985791</td>\n",
       "    </tr>\n",
       "    <tr>\n",
       "      <td>14</td>\n",
       "      <td>246247</td>\n",
       "      <td>OffersScreenAppear</td>\n",
       "      <td>3062</td>\n",
       "      <td>4997</td>\n",
       "      <td>0.612768</td>\n",
       "    </tr>\n",
       "    <tr>\n",
       "      <td>15</td>\n",
       "      <td>246247</td>\n",
       "      <td>PaymentScreenSuccessful</td>\n",
       "      <td>2358</td>\n",
       "      <td>4997</td>\n",
       "      <td>0.471883</td>\n",
       "    </tr>\n",
       "  </tbody>\n",
       "</table>\n",
       "</div>"
      ],
      "text/plain": [
       "    group_id                    event  event_unique_users  group_unique_users  \\\n",
       "0        248         MainScreenAppear                2493                2537   \n",
       "1        248       OffersScreenAppear                1531                2537   \n",
       "2        248         CartScreenAppear                1230                2537   \n",
       "3        248  PaymentScreenSuccessful                1181                2537   \n",
       "4        247         MainScreenAppear                2476                2513   \n",
       "5        247       OffersScreenAppear                1520                2513   \n",
       "6        247         CartScreenAppear                1238                2513   \n",
       "7        247  PaymentScreenSuccessful                1158                2513   \n",
       "8        246         MainScreenAppear                2450                2484   \n",
       "9        246       OffersScreenAppear                1542                2484   \n",
       "10       246         CartScreenAppear                1266                2484   \n",
       "11       246  PaymentScreenSuccessful                1200                2484   \n",
       "12    246247         CartScreenAppear                2504                4997   \n",
       "13    246247         MainScreenAppear                4926                4997   \n",
       "14    246247       OffersScreenAppear                3062                4997   \n",
       "15    246247  PaymentScreenSuccessful                2358                4997   \n",
       "\n",
       "        part  \n",
       "0   0.982657  \n",
       "1   0.603469  \n",
       "2   0.484825  \n",
       "3   0.465510  \n",
       "4   0.985277  \n",
       "5   0.604855  \n",
       "6   0.492638  \n",
       "7   0.460804  \n",
       "8   0.986312  \n",
       "9   0.620773  \n",
       "10  0.509662  \n",
       "11  0.483092  \n",
       "12  0.501101  \n",
       "13  0.985791  \n",
       "14  0.612768  \n",
       "15  0.471883  "
      ]
     },
     "execution_count": 25,
     "metadata": {},
     "output_type": "execute_result"
    }
   ],
   "source": [
    "united_group = users_x_event[(users_x_event['group_id'] == 247) | (users_x_event['group_id'] == 246)]\n",
    "united_group = united_group[['group_id', 'event', 'event_unique_users', 'group_unique_users']]\n",
    "united_group['group_id'] = 246247\n",
    "united_group = (united_group\n",
    "                .groupby(['group_id', 'event'], as_index = False)\n",
    "                .agg({'event_unique_users':'sum','group_unique_users':'sum'})\n",
    "               )\n",
    "united_group['part'] = united_group['event_unique_users']/united_group['group_unique_users']\n",
    "users_x_event = pd.concat([users_x_event,united_group], ignore_index = True)\n",
    "users_x_event"
   ]
  },
  {
   "cell_type": "markdown",
   "metadata": {},
   "source": [
    "Есть 2 контрольные группы для А/А-эксперимента, чтобы проверить корректность всех механизмов и расчётов. Проверим, находят ли статистические критерии разницу между выборками 246 и 247.\n",
    "\n",
    "Решим задачу сравнения пропорций двух генеральных совокупностей по выборкам из них.\n",
    "Разница между пропорциями, наблюдаемыми на выборках, будет нашей статистикой. Так называется переменная, значения которой рассчитываются только по выборочным данным. Можно доказать, что она распределена нормально:\n",
    "\n",
    "$$Z = \\frac{(P_1 - P_2) - (\\pi_1 - \\pi_2)}{P\\cdot(1-P)\\cdot(\\frac{1}{n_1} + \\frac{1}{n_2})}$$\n",
    "\n",
    "В формуле $n_1$ и $n_2$ — размеры двух сравниваемых выборок, то есть количества наблюдений в них; $P_1$, $P_2$ — пропорции, наблюдаемые в выборках; $P$ — пропорция в выборке, скомбинированной из двух наблюдаемых; $\\pi_1$, $\\pi_2$ — настоящие пропорции в сравниваемых генеральных совокупностях.\n",
    "В A/B-тестировании чаще всего проверяют гипотезу о равенстве $\\pi_1$ и $\\pi_2$. Тогда при верной нулевой гипотезе выражение $(\\pi_1 - \\pi_2)$ в числителе будет равно нулю, и критерий можно рассчитывать только по выборочным данным."
   ]
  },
  {
   "cell_type": "markdown",
   "metadata": {},
   "source": [
    "Аналогично поступим с группой с изменённым шрифтом. Сравним результаты с каждой из контрольных групп в отдельности по каждому событию. Сравним результаты с объединённой контрольной группой."
   ]
  },
  {
   "cell_type": "markdown",
   "metadata": {},
   "source": [
    "Формулировка гипотез: \n",
    "- $H0$: конверсия в событие для групп одинакова\n",
    "- $H1$: конверсия в событие для групп различается"
   ]
  },
  {
   "cell_type": "code",
   "execution_count": 26,
   "metadata": {},
   "outputs": [],
   "source": [
    "# зададим пары для сравнения\n",
    "compare_pairs = pd.DataFrame([[246, 247],\n",
    "                             [246, 248],\n",
    "                             [247, 248],\n",
    "                             [246247, 248]])\n",
    "\n",
    "\n",
    "def z_test(alpha, \n",
    "          source = users_x_event, field_group_id = 'group_id', field_event = 'event', field_part = 'part',\n",
    "          field_euu = 'event_unique_users', field_guu = 'group_unique_users'):\n",
    "    '''\n",
    "    Определяет, есть ли статистическая разница между группами в A/B тесте по данным воронки продаж\n",
    "    :alpha: критический уровень статистической значимости\n",
    "    \n",
    "    Параметры, имеющие значение по дефолту:\n",
    "    :source: источник данных, подготовленный заранее; DataFrame\n",
    "    :field_group_id: наименование поля в источнике для идентификатора группы\n",
    "    :field_event: наименование поля в источнике для назвния этапа\n",
    "    :field_part: наименование поля в источнике для конверсии на этап (конверсия от общего числа пользователей в группе)\n",
    "    :field_euu: наименование поля в источнике для количества уникальных пользователей, которые перешли на этап\n",
    "    :field_guu: наименование поля в источнике для количества уникальных пользователей в группе\n",
    "    '''\n",
    "    \n",
    "    for index in compare_pairs.index:\n",
    "        first_group_id = compare_pairs.iloc[index][0]\n",
    "        second_group_id = compare_pairs.iloc[index][1]\n",
    "        print('------------------------------------------')\n",
    "        print(f'Сравнение конверсий для групп {first_group_id} и {second_group_id}')\n",
    "        print('------------------------------------------')\n",
    "        for event_name in source[field_event].unique():\n",
    "            # воспользуемся созданной ранее таблицей, чтобы рассчитать параметры для вычисления z-статистики\n",
    "            # пропорция для первой группы в сравнении\n",
    "            p1 = (source[(source[field_group_id] == first_group_id) & (source[field_event] == event_name)]\n",
    "                  [field_part]).to_numpy()[0]\n",
    "\n",
    "            # пропорция для второй группы в сравнении\n",
    "            p2 = (source[(source[field_group_id] == second_group_id) & (source[field_event] == event_name)]\n",
    "                  [field_part]).to_numpy()[0]\n",
    "\n",
    "            # вычисляем комбинированную пропорцию\n",
    "            # получаем информацию из соданной ранее таблицы:\n",
    "            # уникальные пользователи, совершившие дейстиве (событие) и общее количество уникальных пользователей в группе\n",
    "            first = (source[(source[field_group_id] == first_group_id) & (source[field_event] == event_name)]\n",
    "             [[field_euu, field_guu]]).to_numpy()\n",
    "\n",
    "            second = (source[(source[field_group_id] == second_group_id) & (source[field_event] == event_name)]\n",
    "             [[field_euu, field_guu]]).to_numpy()\n",
    "\n",
    "            p_combined = (first[0][0] + second[0][0]) / (first[0][1] + second[0][1])\n",
    "\n",
    "            # считаем статистику в ст.отклонениях стандартного нормального распределения\n",
    "            z_value = (p1 - p2) / mth.sqrt(p_combined * (1 - p_combined) * (1/first[0][1] + 1/second[0][1]))\n",
    "\n",
    "            # задаем стандартное нормальное распределение (среднее 0, ст.отклонение 1)\n",
    "            distr = st.norm(0, 1)  \n",
    "\n",
    "            # Если бы пропорции были равны, разница между ними была бы равна нулю. \n",
    "            # Посчитаем, как далеко статистика уехала от нуля. \n",
    "            # Какова вероятность получить такое отличие или больше? Так как распределение статистики нормальное, \n",
    "            # вызовем метод `cdf()`. \n",
    "            # Саму статистику возьмём по модулю методом `abs()` — чтобы получить правильный результат независимо от её знака. \n",
    "            # Это возможно, потому что тест двусторонний. По этой же причине удваиваем результат.\n",
    "\n",
    "            p_value = (1 - distr.cdf(abs(z_value))) * 2\n",
    "\n",
    "            print(f'Этап: {event_name}')\n",
    "            print('p-значение: ', p_value)\n",
    "\n",
    "            if (p_value < alpha):\n",
    "                print(\"Отвергаем нулевую гипотезу: между долями есть значимая разница\")\n",
    "            else:\n",
    "                print(\"Не получилось отвергнуть нулевую гипотезу, нет оснований считать доли разными\")\n",
    "                \n",
    "            print()\n",
    "        print()"
   ]
  },
  {
   "cell_type": "code",
   "execution_count": 23,
   "metadata": {},
   "outputs": [
    {
     "name": "stdout",
     "output_type": "stream",
     "text": [
      "------------------------------------------\n",
      "Сравнение конверсий для групп 246 и 247\n",
      "------------------------------------------\n",
      "Этап: MainScreenAppear\n",
      "p-значение:  0.7570597232046099\n",
      "Не получилось отвергнуть нулевую гипотезу, нет оснований считать доли разными\n",
      "\n",
      "Этап: OffersScreenAppear\n",
      "p-значение:  0.2480954578522181\n",
      "Не получилось отвергнуть нулевую гипотезу, нет оснований считать доли разными\n",
      "\n",
      "Этап: CartScreenAppear\n",
      "p-значение:  0.22883372237997213\n",
      "Не получилось отвергнуть нулевую гипотезу, нет оснований считать доли разными\n",
      "\n",
      "Этап: PaymentScreenSuccessful\n",
      "p-значение:  0.11456679313141849\n",
      "Не получилось отвергнуть нулевую гипотезу, нет оснований считать доли разными\n",
      "\n",
      "\n",
      "------------------------------------------\n",
      "Сравнение конверсий для групп 246 и 248\n",
      "------------------------------------------\n",
      "Этап: MainScreenAppear\n",
      "p-значение:  0.2949721933554552\n",
      "Не получилось отвергнуть нулевую гипотезу, нет оснований считать доли разными\n",
      "\n",
      "Этап: OffersScreenAppear\n",
      "p-значение:  0.20836205402738917\n",
      "Не получилось отвергнуть нулевую гипотезу, нет оснований считать доли разными\n",
      "\n",
      "Этап: CartScreenAppear\n",
      "p-значение:  0.07842923237520116\n",
      "Не получилось отвергнуть нулевую гипотезу, нет оснований считать доли разными\n",
      "\n",
      "Этап: PaymentScreenSuccessful\n",
      "p-значение:  0.2122553275697796\n",
      "Не получилось отвергнуть нулевую гипотезу, нет оснований считать доли разными\n",
      "\n",
      "\n",
      "------------------------------------------\n",
      "Сравнение конверсий для групп 247 и 248\n",
      "------------------------------------------\n",
      "Этап: MainScreenAppear\n",
      "p-значение:  0.4587053616621515\n",
      "Не получилось отвергнуть нулевую гипотезу, нет оснований считать доли разными\n",
      "\n",
      "Этап: OffersScreenAppear\n",
      "p-значение:  0.9197817830592261\n",
      "Не получилось отвергнуть нулевую гипотезу, нет оснований считать доли разными\n",
      "\n",
      "Этап: CartScreenAppear\n",
      "p-значение:  0.5786197879539783\n",
      "Не получилось отвергнуть нулевую гипотезу, нет оснований считать доли разными\n",
      "\n",
      "Этап: PaymentScreenSuccessful\n",
      "p-значение:  0.7373415053803964\n",
      "Не получилось отвергнуть нулевую гипотезу, нет оснований считать доли разными\n",
      "\n",
      "\n",
      "------------------------------------------\n",
      "Сравнение конверсий для групп 246247 и 248\n",
      "------------------------------------------\n",
      "Этап: MainScreenAppear\n",
      "p-значение:  0.29424526837179577\n",
      "Не получилось отвергнуть нулевую гипотезу, нет оснований считать доли разными\n",
      "\n",
      "Этап: OffersScreenAppear\n",
      "p-значение:  0.43425549655188256\n",
      "Не получилось отвергнуть нулевую гипотезу, нет оснований считать доли разными\n",
      "\n",
      "Этап: CartScreenAppear\n",
      "p-значение:  0.18175875284404386\n",
      "Не получилось отвергнуть нулевую гипотезу, нет оснований считать доли разными\n",
      "\n",
      "Этап: PaymentScreenSuccessful\n",
      "p-значение:  0.6004294282308704\n",
      "Не получилось отвергнуть нулевую гипотезу, нет оснований считать доли разными\n",
      "\n",
      "\n"
     ]
    }
   ],
   "source": [
    "z_test(alpha = .05)"
   ]
  },
  {
   "cell_type": "markdown",
   "metadata": {},
   "source": [
    "При проведении множественных сравнений стоит делать поправку на количество сравнений (поправка Бонферонни). Мы провели 16 сравнений: 4 группы и 4 этапа.\n",
    "\n",
    "Чтобы снизить вероятность ложнопозитивного результата при множественном тестировании гипотез, применим методы корректировки уровня значимости для снижения групповой вероятности ошибки первого рода: разделим параметр фльфа на 16."
   ]
  },
  {
   "cell_type": "code",
   "execution_count": 27,
   "metadata": {},
   "outputs": [
    {
     "name": "stdout",
     "output_type": "stream",
     "text": [
      "------------------------------------------\n",
      "Сравнение конверсий для групп 246 и 247\n",
      "------------------------------------------\n",
      "Этап: MainScreenAppear\n",
      "p-значение:  0.7570597232046099\n",
      "Не получилось отвергнуть нулевую гипотезу, нет оснований считать доли разными\n",
      "\n",
      "Этап: OffersScreenAppear\n",
      "p-значение:  0.2480954578522181\n",
      "Не получилось отвергнуть нулевую гипотезу, нет оснований считать доли разными\n",
      "\n",
      "Этап: CartScreenAppear\n",
      "p-значение:  0.22883372237997213\n",
      "Не получилось отвергнуть нулевую гипотезу, нет оснований считать доли разными\n",
      "\n",
      "Этап: PaymentScreenSuccessful\n",
      "p-значение:  0.11456679313141849\n",
      "Не получилось отвергнуть нулевую гипотезу, нет оснований считать доли разными\n",
      "\n",
      "\n",
      "------------------------------------------\n",
      "Сравнение конверсий для групп 246 и 248\n",
      "------------------------------------------\n",
      "Этап: MainScreenAppear\n",
      "p-значение:  0.2949721933554552\n",
      "Не получилось отвергнуть нулевую гипотезу, нет оснований считать доли разными\n",
      "\n",
      "Этап: OffersScreenAppear\n",
      "p-значение:  0.20836205402738917\n",
      "Не получилось отвергнуть нулевую гипотезу, нет оснований считать доли разными\n",
      "\n",
      "Этап: CartScreenAppear\n",
      "p-значение:  0.07842923237520116\n",
      "Не получилось отвергнуть нулевую гипотезу, нет оснований считать доли разными\n",
      "\n",
      "Этап: PaymentScreenSuccessful\n",
      "p-значение:  0.2122553275697796\n",
      "Не получилось отвергнуть нулевую гипотезу, нет оснований считать доли разными\n",
      "\n",
      "\n",
      "------------------------------------------\n",
      "Сравнение конверсий для групп 247 и 248\n",
      "------------------------------------------\n",
      "Этап: MainScreenAppear\n",
      "p-значение:  0.4587053616621515\n",
      "Не получилось отвергнуть нулевую гипотезу, нет оснований считать доли разными\n",
      "\n",
      "Этап: OffersScreenAppear\n",
      "p-значение:  0.9197817830592261\n",
      "Не получилось отвергнуть нулевую гипотезу, нет оснований считать доли разными\n",
      "\n",
      "Этап: CartScreenAppear\n",
      "p-значение:  0.5786197879539783\n",
      "Не получилось отвергнуть нулевую гипотезу, нет оснований считать доли разными\n",
      "\n",
      "Этап: PaymentScreenSuccessful\n",
      "p-значение:  0.7373415053803964\n",
      "Не получилось отвергнуть нулевую гипотезу, нет оснований считать доли разными\n",
      "\n",
      "\n",
      "------------------------------------------\n",
      "Сравнение конверсий для групп 246247 и 248\n",
      "------------------------------------------\n",
      "Этап: MainScreenAppear\n",
      "p-значение:  0.29424526837179577\n",
      "Не получилось отвергнуть нулевую гипотезу, нет оснований считать доли разными\n",
      "\n",
      "Этап: OffersScreenAppear\n",
      "p-значение:  0.43425549655188256\n",
      "Не получилось отвергнуть нулевую гипотезу, нет оснований считать доли разными\n",
      "\n",
      "Этап: CartScreenAppear\n",
      "p-значение:  0.18175875284404386\n",
      "Не получилось отвергнуть нулевую гипотезу, нет оснований считать доли разными\n",
      "\n",
      "Этап: PaymentScreenSuccessful\n",
      "p-значение:  0.6004294282308704\n",
      "Не получилось отвергнуть нулевую гипотезу, нет оснований считать доли разными\n",
      "\n",
      "\n"
     ]
    }
   ],
   "source": [
    "z_test(alpha = .05/16)"
   ]
  },
  {
   "cell_type": "markdown",
   "metadata": {},
   "source": [
    "Ни один из проведенных тестов не выявил различий между конверсиями: ни между контрольными группами, ни между контрольными и экспериментальной группой. То есть нет оснований считать, что изменение шрифта в приложении окажет влияние на пользователей. Важно: не ожидается ни отрицательного, ни положительного влияния."
   ]
  },
  {
   "cell_type": "markdown",
   "metadata": {},
   "source": [
    "# Выводы<a id='header_3'></a>"
   ]
  },
  {
   "cell_type": "markdown",
   "metadata": {},
   "source": [
    "Период проведения эксперимента: c 01.08.2019 по 07.08.2019. \n",
    "\n",
    "Воронка продаж состоит из этапов: \n",
    "\n",
    "- MainScreenAppear — Главный экран приложения\n",
    "- OffersScreenAppear — Раздел с предложениями\n",
    "- CartScreenAppear — Корзина\n",
    "- PaymentScreenSuccessful — Успешная оплата\n",
    "\n",
    "Исключили событие Tutorial. Скорее всего Tutorial — это обучение, которое большая часть пользователей не видит. \n",
    "\n",
    "Больше всего пользователей теряется при переходе не этап \"OffersScreenAppear\"**: около 40%. При этом, если пользователи перешли на этот этап, то дальнейшая воронка выглядит успешной; а пользователи, которые дошли до этапа корзины, совершают оплату а 95% случаев.** От первого события до оплаты доходит ~48% пользователей. Это очень хороший показатель.\n",
    "\n",
    "Ни один из проведенных тестов не выявил различий между конверсиями: ни между контрольными группами, ни между контрольными и экспериментальной группой. То есть **нет оснований считать, что изменение шрифта в приложении окажет влияние на пользователей**. \n",
    "\n",
    "**Рекомендации:**\n",
    "1. Не ожидается ни отрицательного, ни положительного влияния от изменения шрифта. То есть если есть веские причины заменить шрифт, то можно его изменить (такой причиной может быть, например, обновление брендбука).\n",
    "2. Изучить необходимость наличия этапа Tutorial в приложении. По результатам исключить его или доработать.\n",
    "3. Изучить, почему конверсия на этап раздела с предложениями минимальна, можно ли ее улучишть. В чем причина: ползователи не находят то, зачем пришли? Или это технические проблемы? "
   ]
  }
 ],
 "metadata": {
  "kernelspec": {
   "display_name": "Python 3",
   "language": "python",
   "name": "python3"
  },
  "language_info": {
   "codemirror_mode": {
    "name": "ipython",
    "version": 3
   },
   "file_extension": ".py",
   "mimetype": "text/x-python",
   "name": "python",
   "nbconvert_exporter": "python",
   "pygments_lexer": "ipython3",
   "version": "3.7.8"
  },
  "toc": {
   "base_numbering": 1,
   "nav_menu": {},
   "number_sections": true,
   "sideBar": true,
   "skip_h1_title": false,
   "title_cell": "Table of Contents",
   "title_sidebar": "Contents",
   "toc_cell": false,
   "toc_position": {},
   "toc_section_display": true,
   "toc_window_display": false
  }
 },
 "nbformat": 4,
 "nbformat_minor": 2
}
